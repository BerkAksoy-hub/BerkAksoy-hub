{
  "nbformat": 4,
  "nbformat_minor": 0,
  "metadata": {
    "colab": {
      "name": "Aksoy_HW4.ipynb",
      "provenance": [],
      "collapsed_sections": [],
      "history_visible": true
    },
    "kernelspec": {
      "name": "python3",
      "display_name": "Python 3"
    },
    "language_info": {
      "name": "python"
    }
  },
  "cells": [
    {
      "cell_type": "markdown",
      "metadata": {
        "id": "72lIA1nHZ-de"
      },
      "source": [
        "**Block #1: Import libraries**"
      ]
    },
    {
      "cell_type": "code",
      "metadata": {
        "id": "Luf1ZJZIpWTO"
      },
      "source": [
        "from bs4 import BeautifulSoup # now we get beautiful soup\n",
        "import requests # need this to talk to a website\n",
        "import pandas as pd "
      ],
      "execution_count": 2,
      "outputs": []
    },
    {
      "cell_type": "markdown",
      "metadata": {
        "id": "Gl59WH9IaLKZ"
      },
      "source": [
        "**Block #2: Prettify and check different classes**"
      ]
    },
    {
      "cell_type": "code",
      "metadata": {
        "id": "dRuHP1x86vVv"
      },
      "source": [
        "url='https://weather.com/weather/today/l/95124:4:US'\n",
        "response = requests.get(url)\n",
        "soup = BeautifulSoup(response.content,'html.parser')\n",
        "#print(soup.prettify())"
      ],
      "execution_count": 4,
      "outputs": []
    },
    {
      "cell_type": "markdown",
      "metadata": {
        "id": "0jhzrofEaRQH"
      },
      "source": [
        "**Block #3: Sends out website but has a high chance of 404 error if not done perfectly**"
      ]
    },
    {
      "cell_type": "code",
      "metadata": {
        "colab": {
          "base_uri": "https://localhost:8080/"
        },
        "id": "JkQ2B6-QOE94",
        "outputId": "e58a2b63-94f7-43d8-d368-0343f37fc10e"
      },
      "source": [
        "#rather simple but relies too much on perfection from user\n",
        "\n",
        "def city_zip():\n",
        "  zip_c=int(input('Please Enter Your Zip code: '))\n",
        "  url='https://weather.com/weather/today/l/{}:4:US'.format(zip_c)\n",
        "  res = requests.get(url)\n",
        "  print(url)\n",
        "city_zip()"
      ],
      "execution_count": 5,
      "outputs": [
        {
          "output_type": "stream",
          "text": [
            "Please Enter Your Zip code: 95124\n",
            "https://weather.com/weather/today/l/95124:4:US\n"
          ],
          "name": "stdout"
        }
      ]
    },
    {
      "cell_type": "markdown",
      "metadata": {
        "id": "qq5Id4XkakEf"
      },
      "source": [
        "**Block #4: Many limitiations that must be met to receive website link, and is also server friendly (part of EC)**"
      ]
    },
    {
      "cell_type": "code",
      "metadata": {
        "colab": {
          "base_uri": "https://localhost:8080/"
        },
        "id": "xPaHZ0dd0VYV",
        "outputId": "dd4ebd24-99b1-4e7a-cfcd-608b47e3287d"
      },
      "source": [
        "\n",
        "def city_zip(): #define function \n",
        "  zip_c=str(input('Please Enter A Zip Code: '))  #ask initial question for zip\n",
        "  length_z = len(zip_c) #store the lenght of the zip\n",
        "\n",
        "  if zip_c.isdigit():\n",
        "      if length_z == 5:\n",
        "        url='https://weather.com/weather/today/l/{}:4:US'.format(zip_c) #format with zip_z so when zip is approved it is added in {}\n",
        "        res = requests.get(url) #get new url and post with print\n",
        "        print(url)#check and see if zip is actually a number\n",
        "        return url,res\n",
        "      else: #in this block if zip is a digit, now check length\n",
        "        zip_z=str(input('Please Enter A Valid Zip Code: ')) #if length is not 5 then repeat\n",
        "        while len(zip_z) !=5: #if it keeps on happening loop with while\n",
        "          zip_z=str(input('Please Enter A Valid Zip Code: ')) #ask again\n",
        "        url='https://weather.com/weather/today/l/{}:4:US'.format(zip_z) #format with zip_z so when zip is approved it is added in {}\n",
        "        res = requests.get(url) #get new url and post with print\n",
        "        print(url)\n",
        "        return url,res\n",
        "        \n",
        "  else:\n",
        "      print(\"Sorry But This Is Not A Valid Zip Code Number\") #if not even a number and is a string then reject\n",
        "\n",
        "url_zip,res=city_zip()"
      ],
      "execution_count": 9,
      "outputs": [
        {
          "output_type": "stream",
          "text": [
            "Please Enter A Zip Code: 9\n",
            "Please Enter A Valid Zip Code: 10\n",
            "Please Enter A Valid Zip Code: 92093\n",
            "https://weather.com/weather/today/l/92093:4:US\n"
          ],
          "name": "stdout"
        }
      ]
    },
    {
      "cell_type": "markdown",
      "metadata": {
        "id": "cxllBrEXQwfq"
      },
      "source": [
        "**Example below with output**"
      ]
    },
    {
      "cell_type": "code",
      "metadata": {
        "colab": {
          "base_uri": "https://localhost:8080/"
        },
        "id": "nNg6Xd6LoAAn",
        "outputId": "c2b4baf8-56af-4282-fa8e-f31be704567c"
      },
      "source": [
        "\n",
        "incoming = input(\"Welcome to Python Weather Report: Press Enter to begin \") #intro\n",
        "\n",
        "\n",
        "def city_zip(): #define function \n",
        "  zip_c=str(input('Please Enter A Zip Code: '))  #ask initial question for zip\n",
        "  length_z = len(zip_c) #store the lenght of the zip\n",
        "\n",
        "  if zip_c.isdigit():\n",
        "      if length_z == 5:\n",
        "        url='https://weather.com/weather/today/l/{}:4:US'.format(zip_c) #format with zip_z so when zip is approved it is added in {}\n",
        "        res = requests.get(url) #get new url and post with print\n",
        "        print(url)#check and see if zip is actually a number\n",
        "        return url,res\n",
        "      else: #in this block if zip is a digit, now check length\n",
        "        zip_z=str(input('Please Enter A Valid Zip Code: ')) #if length is not 5 then repeat\n",
        "        while len(zip_z) !=5: #if it keeps on happening loop with while\n",
        "          zip_z=str(input('Please Enter A Valid Zip Code: ')) #ask again\n",
        "        url='https://weather.com/weather/today/l/{}:4:US'.format(zip_z) #format with zip_z so when zip is approved it is added in {}\n",
        "        res = requests.get(url) #get new url and post with print\n",
        "        print(url)\n",
        "        return url,res\n",
        "        \n",
        "  else:\n",
        "      print(\"Sorry But This Is Not A Valid Zip Code Number\") #if not even a number and is a string then reject\n",
        "\n",
        "url_zip,res=city_zip()\n",
        "#res.status_code\n",
        "\n",
        "\n",
        "def get_all(url_zip,res):\n",
        "  soup=BeautifulSoup(res.content,\"html.parser\")\n",
        "  loca_t=soup.find_all(class_='CurrentConditions--location--1Ayv3')[0].text.replace(\"Weather\",\"\")\n",
        "  cur_temp=soup.find_all(class_='CurrentConditions--tempValue--3KcTQ')[0].text\n",
        "  feel_out=soup.find_all(class_='CurrentConditions--phraseValue--2xXSr')[0].text\n",
        "  print(\"Location: \" +loca_t)\n",
        "  print(\"The current temperature (fahrenheit) in \"+ loca_t + \" is \"+ cur_temp+\".\")\n",
        "  print(\"At the moment it is \"+ feel_out+\".\")\n",
        "get_all(url_zip,res)"
      ],
      "execution_count": 6,
      "outputs": [
        {
          "output_type": "stream",
          "text": [
            "Welcome to Python Weather Report: Press Enter to begin 95124\n",
            "Please Enter A Zip Code: 95124\n",
            "https://weather.com/weather/today/l/95124:4:US\n",
            "Location: San Jose, CA \n",
            "The current temperature (fahrenheit) in San Jose, CA  is 78°.\n",
            "At the moment it is Sunny.\n"
          ],
          "name": "stdout"
        }
      ]
    },
    {
      "cell_type": "code",
      "metadata": {
        "colab": {
          "base_uri": "https://localhost:8080/"
        },
        "id": "1_xsFz0KrUnS",
        "outputId": "d995a830-4376-45d3-8713-8944409c327b"
      },
      "source": [
        "print(url)"
      ],
      "execution_count": 70,
      "outputs": [
        {
          "output_type": "stream",
          "text": [
            "https://weather.com/weather/today/l/95124:4:US\n"
          ],
          "name": "stdout"
        }
      ]
    },
    {
      "cell_type": "code",
      "metadata": {
        "colab": {
          "base_uri": "https://localhost:8080/"
        },
        "id": "3rgxJ_5cQcc2",
        "outputId": "d55bb8dc-591d-4ec2-9ff2-e0dffcf8a767"
      },
      "source": [
        "response=requests.get(url)\n",
        "print(response.status_code)\n",
        "print(type(soup))\n",
        "#print(soup.prettify()) #prints the all classes and blocks needed to webscrape"
      ],
      "execution_count": 67,
      "outputs": [
        {
          "output_type": "stream",
          "text": [
            "200\n",
            "<class 'bs4.BeautifulSoup'>\n"
          ],
          "name": "stdout"
        }
      ]
    },
    {
      "cell_type": "code",
      "metadata": {
        "colab": {
          "base_uri": "https://localhost:8080/",
          "height": 35
        },
        "id": "WVXiB266pC-K",
        "outputId": "938c984f-1eac-4aab-cbe6-3e687b72587a"
      },
      "source": [
        "\n",
        "soup.find_all(class_='CurrentConditions--CurrentConditions--2_Nmm')[0].text"
      ],
      "execution_count": 62,
      "outputs": [
        {
          "output_type": "execute_result",
          "data": {
            "application/vnd.google.colaboratory.intrinsic+json": {
              "type": "string"
            },
            "text/plain": [
              "'San Jose, CA WeatherAs of 3:33 pm PDT84°SunnySunny--/51°'"
            ]
          },
          "metadata": {
            "tags": []
          },
          "execution_count": 62
        }
      ]
    },
    {
      "cell_type": "code",
      "metadata": {
        "colab": {
          "base_uri": "https://localhost:8080/",
          "height": 35
        },
        "id": "U863LjArjdZp",
        "outputId": "f02a1362-0480-48c0-b577-1d3b13bd4755"
      },
      "source": [
        "page = requests.get(url)\n",
        "soup=BeautifulSoup(page.content,\"html.parser\")\n",
        "soup.prettify()\n",
        "\n",
        "#soup.find_all(class_='CurrentConditions--location--1Ayv3')[0].text\n",
        "soup.find_all(class_='CurrentConditions--location--1Ayv3')[0].text.replace(\"Weather\",\"\")"
      ],
      "execution_count": 40,
      "outputs": [
        {
          "output_type": "execute_result",
          "data": {
            "application/vnd.google.colaboratory.intrinsic+json": {
              "type": "string"
            },
            "text/plain": [
              "'San Jose, CA '"
            ]
          },
          "metadata": {
            "tags": []
          },
          "execution_count": 40
        }
      ]
    }
  ]
}