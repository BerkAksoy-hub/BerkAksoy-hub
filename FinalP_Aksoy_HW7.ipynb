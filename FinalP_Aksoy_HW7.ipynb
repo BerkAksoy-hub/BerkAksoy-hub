{
  "nbformat": 4,
  "nbformat_minor": 0,
  "metadata": {
    "colab": {
      "name": "FinalP_Aksoy.ipynb",
      "provenance": []
    },
    "kernelspec": {
      "name": "python3",
      "display_name": "Python 3"
    },
    "language_info": {
      "name": "python"
    }
  },
  "cells": [
    {
      "cell_type": "markdown",
      "metadata": {
        "id": "1WoMIfcZfkdZ"
      },
      "source": [
        "**Import Libraries**"
      ]
    },
    {
      "cell_type": "code",
      "metadata": {
        "id": "8CacF1kbSumN"
      },
      "source": [
        "import numpy as np\n",
        "import pandas as pd\n",
        "import matplotlib.pyplot as plt\n",
        "import seaborn as sns\n",
        "from bs4 import BeautifulSoup\n",
        "import requests\n",
        "from google.colab import files "
      ],
      "execution_count": 4,
      "outputs": []
    },
    {
      "cell_type": "markdown",
      "metadata": {
        "id": "m3-6k6ItfnRw"
      },
      "source": [
        "**Import the CSV file or use read_html to extract data**"
      ]
    },
    {
      "cell_type": "code",
      "metadata": {
        "colab": {
          "resources": {
            "http://localhost:8080/nbextensions/google.colab/files.js": {
              "data": "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",
              "ok": true,
              "headers": [
                [
                  "content-type",
                  "application/javascript"
                ]
              ],
              "status": 200,
              "status_text": ""
            }
          },
          "base_uri": "https://localhost:8080/",
          "height": 109
        },
        "id": "v7oT8VrISx4u",
        "outputId": "58bc93a9-b76f-4115-ea32-00137c8212f5"
      },
      "source": [
        "files.upload()"
      ],
      "execution_count": 5,
      "outputs": [
        {
          "output_type": "display_data",
          "data": {
            "text/html": [
              "\n",
              "     <input type=\"file\" id=\"files-000ff466-01ec-4e05-a810-3a0082cf5ef1\" name=\"files[]\" multiple disabled\n",
              "        style=\"border:none\" />\n",
              "     <output id=\"result-000ff466-01ec-4e05-a810-3a0082cf5ef1\">\n",
              "      Upload widget is only available when the cell has been executed in the\n",
              "      current browser session. Please rerun this cell to enable.\n",
              "      </output>\n",
              "      <script src=\"/nbextensions/google.colab/files.js\"></script> "
            ],
            "text/plain": [
              "<IPython.core.display.HTML object>"
            ]
          },
          "metadata": {
            "tags": []
          }
        },
        {
          "output_type": "stream",
          "text": [
            "Saving Vehicles.csv to Vehicles.csv\n"
          ],
          "name": "stdout"
        },
        {
          "output_type": "execute_result",
          "data": {
            "text/plain": [
              "{'Vehicles.csv': b'Automobile ID,Fuel ID,Fuel Configuration ID,Manufacturer ID,Weight Class ID,Category ID,Model,Model Year,City Range,Highway Range,City Fuel Economy,City Fuel Economy Units,Highway Fuel Economy,Highway Fuel Economy Units,City Gas Fuel Economy,Highway Gas Fuel Economy,Transmission Type,Engine Type,Engine Size,Engine Cylinder Count,Engine Description,Battery Type,Battery Voltage Amps,110v Charge Time,220v Charge Time,Warranty Info,Ordering Info,Description,Comments,Manufacturer,Manufacturer URL,Fuel Code,Fuel,Category,Fuel Configuration Name\\n11636,41,1,211,\"\",27,i3 BEV,2017,\"\",\"\",137.0,Mpge,111.0,Mpge,\"\",\"\",Auto,SI,125 kW,\"\",125 kW electric motor - 60 Amp-hour battery,\"\",\"\",\"\",\"\",\"\",\"\",\"\",\"\",BMW,www.bmwusa.com,ELEC,Electric,Sedan/Wagon,Dedicated\\n11637,41,1,211,\"\",27,i3 BEV,2017,\"\",\"\",129.0,Mpge,106.0,Mpge,\"\",\"\",Auto,SI,125 kW ,\"\",125 kW electric motor - 94 Amp-hour battery,\"\",\"\",\"\",\"\",\"\",\"\",\"\",\"\",BMW,www.bmwusa.com,ELEC,Electric,Sedan/Wagon,Dedicated\\n11638,41,1,215,\"\",27,Bolt,2017,\"\",\"\",128.0,Mpge,110.0,Mpge,\"\",\"\",Auto,SI,150 kW,\"\",150 kW electric motor,\"\",\"\",\"\",\"\",\"\",\"\",\"\",\"\",Chevrolet,http://www.chevrolet.com,ELEC,Electric,Sedan/Wagon,Dedicated\\n11639,41,1,379,\"\",27,500e,2017,\"\",\"\",\"\",\"\",\"\",\"\",\"\",\"\",Auto,SI,82 kW,\"\",82 kW electric motor,\"\",\"\",\"\",\"\",\"\",\"\",\"\",\"\",Fiat,http://www.fiatusa.com/,ELEC,Electric,Sedan/Wagon,Dedicated\\n11640,41,1,351,\"\",27,Ioniq,2017,\"\",\"\",\"\",\"\",\"\",\"\",\"\",\"\",Auto,SI,\"\",\"\",NA/88 kW/28 kW,\"\",\"\",\"\",\"\",\"\",\"\",\"\",\"\",Hyundai,http://www.hyundaiusa.com/,ELEC,Electric,Sedan/Wagon,Dedicated\\n11641,41,1,239,\"\",27,B250e,2017,\"\",\"\",\"\",\"\",\"\",\"\",\"\",\"\",Auto,SI,132 kW,\"\",132 kW electric motor,\"\",\"\",\"\",\"\",\"\",\"\",\"\",\"\",Mercedes-Benz,http://www.mbusa.com/mercedes/,ELEC,Electric,Sedan/Wagon,Dedicated\\n11642,41,1,263,\"\",27,i-MiEV,2017,\"\",\"\",\"\",\"\",\"\",\"\",\"\",\"\",Auto,SI,\"\",\"\",49 kW electric motor 16 kW battery,\"\",\"\",\"\",\"\",\"\",\"\",\"\",\"\",Mitsubishi,http://www.mitsubishicars.com/MMNA/jsp/find.do?loc=en-us,ELEC,Electric,Sedan/Wagon,Dedicated\\n11643,41,1,237,\"\",27,Model S,2017,\"\",\"\",\"\",\"\",\"\",\"\",\"\",\"\",Auto,SI,\"\",\"\",300 kW electric motor 60 kWh battery,\"\",\"\",\"\",\"\",\"\",\"\",\"\",\"\",Tesla,http://www.teslamotors.com/design/gallery-body.php,ELEC,Electric,Sedan/Wagon,Dedicated\\n11644,41,1,347,\"\",27,e-Golf,2017,\"\",\"\",\"\",\"\",\"\",\"\",\"\",\"\",Auto,SI,\"\",\"\",85 kW electric motor 24.2 kWh battery,\"\",\"\",\"\",\"\",\"\",\"\",\"\",\"\",Volkswagen,http://www.vw.com,ELEC,Electric,Sedan/Wagon,Dedicated\\n11598,41,1,211,\"\",27,i3,2016,\"\",\"\",137.0,Mpge,111.0,Mpge,\"\",\"\",Auto,SI,125 kW ,\"\",125 kW electric motor 21 kWh battery,\"\",21 kWh,\"\",\"\",\"\",\"\",\"\",\"\",BMW,www.bmwusa.com,ELEC,Electric,Sedan/Wagon,Dedicated\\n11599,41,1,215,\"\",27,Spark,2016,\"\",\"\",128.0,Mpge,108.0,Mpge,\"\",\"\",Auto,SI,104 kW,\"\",104 kW electric motor 20 kWh battery,\"\",20 kWh,\"\",\"\",\"\",\"\",\"\",\"\",Chevrolet,http://www.chevrolet.com,ELEC,Electric,Sedan/Wagon,Dedicated\\n11600,41,1,379,\"\",27,500e,2016,\"\",\"\",122.0,Mpge,108.0,Mpge,\"\",\"\",Auto,SI,83kW,\"\",83kW electric motor 24 kWh battery,\"\",24 kWh,\"\",\"\",\"\",\"\",\"\",\"\",Fiat,http://www.fiatusa.com/,ELEC,Electric,Sedan/Wagon,Dedicated\\n11601,41,1,219,\"\",27,Focus,2016,\"\",\"\",110.0,Mpge,99.0,Mpge,\"\",\"\",Auto,SI,107 kW,\"\",107 kW electric motor 23 kWh battery,\"\",23 kWh,\"\",\"\",\"\",\"\",\"\",\"\",Ford,http://www.fordvehicles.com,ELEC,Electric,Sedan/Wagon,Dedicated\\n11603,41,1,239,\"\",27,B250e,2016,\"\",\"\",85.0,Mpge,82.0,Mpge,\"\",\"\",Auto,SI,132 kW,\"\",132 kW electric motor 28 kWh battery,\"\",28 kWh,\"\",\"\",\"\",\"\",\"\",\"\",Mercedes-Benz,http://www.mbusa.com/mercedes/,ELEC,Electric,Sedan/Wagon,Dedicated\\n11604,41,1,263,\"\",27,i-MiEV,2016,\"\",\"\",126.0,Mpge,99.0,Mpge,\"\",\"\",Auto,SI,49 kW,\"\",49 kW electric motor 16 kWh battery,\"\",16 kWh,\"\",\"\",\"\",\"\",\"\",\"\",Mitsubishi,http://www.mitsubishicars.com/MMNA/jsp/find.do?loc=en-us,ELEC,Electric,Sedan/Wagon,Dedicated\\n11605,41,1,217,\"\",27,Leaf,2016,\"\",\"\",126.0,Mpge,101.0,Mpge,\"\",\"\",Auto,SI,80 kW,\"\",80 kW electric motor 24 kWh battery,\"\",24 kWh,\"\",\"\",\"\",\"\",\"\",\"\",Nissan,http://www.nissanusa.com,ELEC,Electric,Sedan/Wagon,Dedicated\\n11606,41,1,381,\"\",27,fortwo,2016,\"\",\"\",122.0,Mpge,93.0,Mpge,\"\",\"\",Auto,SI,55 kW,\"\",55 kW electric motor 17.6 kWh battery,\"\",17.6 kWh,\"\",\"\",\"\",\"\",\"\",\"\",Smart,http://www.smartusa.com/,ELEC,Electric,Sedan/Wagon,Dedicated\\n11607,41,1,237,\"\",27,Model S,2016,\"\",\"\",88.0,Mpge,90.0,Mpge,\"\",\"\",Auto,SI,285 kW,\"\",285 kW electric motor 70 kWh battery,\"\",70 kWh,\"\",\"\",\"\",\"\",\"\",\"\",Tesla,http://www.teslamotors.com/design/gallery-body.php,ELEC,Electric,Sedan/Wagon,Dedicated\\n11608,41,1,237,\"\",27,Model S AWD,2016,\"\",\"\",95.0,Mpge,106.0,Mpge,\"\",\"\",Auto,SI,350/285 kW,\"\",350/285 kW electric motor 90 kWh battery,\"\",90 kWh,\"\",\"\",\"\",\"\",\"\",\"\",Tesla,http://www.teslamotors.com/design/gallery-body.php,ELEC,Electric,Sedan/Wagon,Dedicated\\n11609,41,1,237,\"\",29,Model X AWD 90D,2016,\"\",\"\",90.0,Mpge,94.0,Mpge,\"\",\"\",Auto,SI,193/193 kW,\"\",193/193 kW electric motor 90 kWh battery,\"\",90 kWh,\"\",\"\",\"\",\"\",\"\",\"\",Tesla,http://www.teslamotors.com/design/gallery-body.php,ELEC,Electric,SUV,Dedicated\\n11610,41,1,237,\"\",29,Model X AWD P90D,2016,\"\",\"\",89.0,Mpge,90.0,Mpge,\"\",\"\",Auto,SI,193/375 kW,\"\",193/375 kW electric motor 90 kWh battery,\"\",90 kWh,\"\",\"\",\"\",\"\",\"\",\"\",Tesla,http://www.teslamotors.com/design/gallery-body.php,ELEC,Electric,SUV,Dedicated\\n11611,41,1,347,\"\",27,e-Golf,2016,\"\",\"\",126.0,Mpge,105.0,Mpge,\"\",\"\",Auto,SI,85 kW,\"\",85 kW electric motor 24.2 kWh battery,\"\",24.2 kWh,\"\",\"\",\"\",\"\",\"\",\"\",Volkswagen,http://www.vw.com,ELEC,Electric,Sedan/Wagon,Dedicated\\n11344,41,1,211,\"\",27,i3,2015,\"\",\"\",137.0,Mpge,111.0,Mpge,\"\",\"\",Auto,\"\",125 kW,\"\",\"125 kW electric motor, 21 kWh battery\",\"\",21 kWh,\"\",\"\",\"\",\"\",\"\",81 mi all electric range,BMW,www.bmwusa.com,ELEC,Electric,Sedan/Wagon,Dedicated\\n11345,41,1,215,\"\",27,Spark,2015,\"\",\"\",128.0,Mpge,109.0,Mpge,\"\",\"\",Auto,e-motor,104 kW,\"\",\"104 kW electric motor, 20 kWh battery\",\"\",20 kWh,\"\",\"\",\"\",\"\",\"\",82 mi all electric range,Chevrolet,http://www.chevrolet.com,ELEC,Electric,Sedan/Wagon,Dedicated\\n11346,41,1,379,\"\",27,500e,2015,\"\",\"\",122.0,Mpge,108.0,Mpge,\"\",\"\",Auto,e-motor,83 kW,\"\",\"83kW electric motor, 24 kWh battery\",\"\",24 kWh,\"\",\"\",\"\",\"\",\"\",87 mi all electric range,Fiat,http://www.fiatusa.com/,ELEC,Electric,Sedan/Wagon,Dedicated\\n11347,41,1,219,\"\",27,Focus,2015,\"\",\"\",110.0,Mpge,99.0,Mpge,\"\",\"\",Auto,e-motor,107 kW,\"\",\"107 kW electric motor, 23 kWh battery\",\"\",23 kWh,\"\",\"\",\"\",\"\",\"\",76 mi all electric range,Ford,http://www.fordvehicles.com,ELEC,Electric,Sedan/Wagon,Dedicated\\n11349,41,1,361,\"\",27,Soul,2015,\"\",\"\",120.0,Mpge,92.0,Mpge,\"\",\"\",Auto,e-motor,50 kW,\"\",\"50 kW electric motor, 16.4 kWh battery\",\"\",16.4 kWh,\"\",\"\",\"\",\"\",\"\",93 mi all electric range,Kia,http://www.kia.com,ELEC,Electric,Sedan/Wagon,Dedicated\\n11350,41,1,239,\"\",27,B-Class Electric,2015,\"\",\"\",85.0,Mpge,83.0,Mpge,\"\",\"\",Auto,e-motor,132 kW,\"\",\"132 kW electric motor, 28 kWh battery\",\"\",28 kWh,\"\",\"\",\"\",\"\",\"\",87 mi all electric range,Mercedes-Benz,http://www.mbusa.com/mercedes/,ELEC,Electric,Sedan/Wagon,Dedicated\\n11351,41,1,263,\"\",27,i-MiEV,2015,\"\",\"\",126.0,Mpge,99.0,Mpge,\"\",\"\",Auto,e-motor,49 kW,\"\",\"49 kW electric motor, 16 kWh battery\",\"\",16 kWh,\"\",\"\",\"\",\"\",\"\",62 mi all electric range,Mitsubishi,http://www.mitsubishicars.com/MMNA/jsp/find.do?loc=en-us,ELEC,Electric,Sedan/Wagon,Dedicated\\n11352,41,1,217,\"\",27,Leaf,2015,\"\",\"\",126.0,Mpge,101.0,Mpge,\"\",\"\",Auto,e-motor,80 kW,\"\",\"80 kW electric motor, 24 kWh battery\",\"\",24 kWh,\"\",\"\",\"\",\"\",\"\",84 mi all electric range,Nissan,http://www.nissanusa.com,ELEC,Electric,Sedan/Wagon,Dedicated\\n11353,41,1,381,\"\",27,fortwo,2015,\"\",\"\",122.0,Mpge,93.0,Mpge,\"\",\"\",Auto,e-motor,55 kW,\"\",\"55 kW electric motor, 17.6 kWh battery\",\"\",17.6 kWh,\"\",\"\",\"\",\"\",\"\",68 mi all electric range,Smart,http://www.smartusa.com/,ELEC,Electric,Sedan/Wagon,Dedicated\\n11354,41,1,237,\"\",27,Model S,2015,\"\",\"\",94.0,Mpge,97.0,Mpge,\"\",\"\",Auto,e-motor,300 kW,\"\",\"300 kW electric motor, 60 kWh battery\",\"\",60 kWh,\"\",\"\",\"\",\"\",\"\",208 mi all electric range,Tesla,http://www.teslamotors.com/design/gallery-body.php,ELEC,Electric,Sedan/Wagon,Dedicated\\n11356,41,1,347,\"\",27,e-Golf,2015,\"\",\"\",\"\",Mpge,\"\",Mpge,\"\",\"\",Auto,e-motor,85 kW,\"\",\"85 kW electric motor, 24.2 kWh battery\",\"\",24.2 kWh,\"\",\"\",\"\",\"\",\"\",85 mi est. all electric range,Volkswagen,http://www.vw.com,ELEC,Electric,Sedan/Wagon,Dedicated\\n11260,41,1,211,\"\",27,i3,2014,\"\",\"\",\"\",NULL,\"\",NULL,\"\",\"\",Auto,\"\",125,\"\",125 kW electric motor,\"\",21 kWh,\"\",\"\",\"\",\"\",\"\",\"\",BMW,www.bmwusa.com,ELEC,Electric,Sedan/Wagon,Dedicated\\n11261,41,1,215,\"\",27,Spark,2014,\"\",\"\",128.0,mpge,109.0,mpge,\"\",\"\",Auto,\"\",104,\"\",104 kW electric motor,\"\",20 kWh,\"\",\"\",\"\",\"\",\"\",\"\",Chevrolet,http://www.chevrolet.com,ELEC,Electric,Sedan/Wagon,Dedicated\\n11262,41,1,379,\"\",27,500e,2014,\"\",\"\",122.0,mpge,108.0,mpge,\"\",\"\",Auto,\"\",83kW,\"\",83kW electric motor,\"\",24 kWh,\"\",\"\",\"\",\"\",\"\",\"\",Fiat,http://www.fiatusa.com/,ELEC,Electric,Sedan/Wagon,Dedicated\\n11263,41,1,219,\"\",27,Focus,2014,\"\",\"\",110.0,mpge,99.0,mpge,\"\",\"\",Auto,\"\",107,\"\",107 kW electric motor,\"\",23 kWh,\"\",\"\",\"\",\"\",\"\",\"\",Ford,http://www.fordvehicles.com,ELEC,Electric,Sedan/Wagon,Dedicated\\n11264,41,1,209,\"\",27,Fit,2014,\"\",\"\",132.0,mpge,105.0,mpge,\"\",\"\",Auto,\"\",92,\"\",92 kW electric motor,\"\",20 kWh,\"\",\"\",\"\",\"\",\"\",\"\",Honda,http://automobiles.honda.com,ELEC,Electric,Sedan/Wagon,Dedicated\\n11265,41,1,361,\"\",27,Soul,2014,\"\",\"\",\"\",NULL,\"\",NULL,\"\",\"\",Auto,\"\",50,\"\",50 kW electric motor,\"\",16.4 kWh,\"\",\"\",\"\",\"\",\"\",\"\",Kia,http://www.kia.com,ELEC,Electric,Sedan/Wagon,Dedicated\\n11266,41,1,239,\"\",27,B-Class Electric,2014,\"\",\"\",\"\",NULL,\"\",NULL,\"\",\"\",Auto,\"\",100,\"\",100 kW electric motor,\"\",28 kWh,\"\",\"\",\"\",\"\",\"\",\"\",Mercedes-Benz,http://www.mbusa.com/mercedes/,ELEC,Electric,Sedan/Wagon,Dedicated\\n11267,41,1,263,\"\",27,i-MiEV,2014,\"\",\"\",126.0,mpge,99.0,mpge,\"\",\"\",Auto,\"\",49,\"\",49 kW electric motor,\"\",16 kWh,\"\",\"\",\"\",\"\",\"\",\"\",Mitsubishi,http://www.mitsubishicars.com/MMNA/jsp/find.do?loc=en-us,ELEC,Electric,Sedan/Wagon,Dedicated\\n11268,41,1,217,\"\",27,Leaf,2014,\"\",\"\",\"\",NULL,\"\",NULL,\"\",\"\",Auto,\"\",80,\"\",80 kW electric motor,\"\",24 kWh,\"\",\"\",\"\",\"\",\"\",\"\",Nissan,http://www.nissanusa.com,ELEC,Electric,Sedan/Wagon,Dedicated\\n11269,41,1,353,\"\",27,iQ EV,2014,\"\",\"\",138.0,mpge,105.0,mpge,\"\",\"\",Auto,\"\",47,\"\",47 kW electric motor,\"\",12.0 kWh,\"\",\"\",\"\",\"\",\"\",\"\",Scion,http://www.scion.com/,ELEC,Electric,Sedan/Wagon,Dedicated\\n11270,41,1,381,\"\",27,fortwo,2014,\"\",\"\",122.0,mpge,93.0,mpge,\"\",\"\",Auto,\"\",55,\"\",55 kW electric motor,\"\",17.6 kWh,\"\",\"\",\"\",\"\",\"\",\"\",Smart,http://www.smartusa.com/,ELEC,Electric,Sedan/Wagon,Dedicated\\n11271,41,1,237,\"\",27,Model S,2014,\"\",\"\",94.0,mpge,97.0,mpge,\"\",\"\",Auto,\"\",300,\"\",300 kW electric motor,\"\",60 kWh,\"\",\"\",\"\",\"\",\"\",\"\",Tesla,http://www.teslamotors.com/design/gallery-body.php,ELEC,Electric,Sedan/Wagon,Dedicated\\n11272,41,1,221,\"\",29,RAV 4 EV,2014,\"\",\"\",78.0,mpge,74.0,mpge,\"\",\"\",Auto,\"\",115,\"\",115 kW electric motor,\"\",41.8 kWh,\"\",\"\",\"\",\"\",\"\",\"\",Toyota,http://www.toyota.com,ELEC,Electric,SUV,Dedicated\\n10474,41,1,363,\"\",27,CODA,2013,\"\",\"\",77.0,mpge,68.0,mpge,\"\",\"\",\"\",Electric,100 kW e-motor,\"\",\"\",31 kWh,\"\",\"\",\"\",\"\",\"\",\"\",\"\",Coda Automotive,http://www.codaautomotive.com/,ELEC,Electric,Sedan/Wagon,Dedicated\\n10491,41,1,379,\"\",27,500e,2013,\"\",\"\",116.0,mpge Est.,100.0,mpge Est.,\"\",\"\",Auto,\"\",100 kW e-motor,\"\",\"\",31 kWh,\"\",\"\",\"\",\"\",\"\",\"\",Select regions only,Fiat,http://www.fiatusa.com/,ELEC,Electric,Sedan/Wagon,Dedicated\\n10492,41,1,219,\"\",27,Focus,2013,\"\",\"\",110.0,mpge,99.0,mpge,\"\",\"\",Auto,\"\",107 kW e-motor,\"\",\"\",23 kWh,\"\",\"\",\"\",\"\",\"\",\"\",\"\",Ford,http://www.fordvehicles.com,ELEC,Electric,Sedan/Wagon,Dedicated\\n10524,41,1,209,\"\",27,FIT EV,2013,\"\",\"\",132.0,mpge,105.0,mpge,\"\",\"\",\"\",\"\",92 kW e-motor,\"\",\"\",20 kWh,\"\",\"\",\"\",\"\",\"\",\"\",Limited availability,Honda,http://automobiles.honda.com,ELEC,Electric,Sedan/Wagon,Dedicated\\n10540,41,1,263,\"\",27,i-MiEV,2013,\"\",\"\",126.0,mpge,99.0,mpge,\"\",\"\",\"\",\"\",49 kW e-motor,\"\",\"\",16 kWh,\"\",\"\",\"\",\"\",\"\",\"\",\"\",Mitsubishi,http://www.mitsubishicars.com/MMNA/jsp/find.do?loc=en-us,ELEC,Electric,Sedan/Wagon,Dedicated\\n10541,41,1,217,\"\",27,Leaf,2013,\"\",\"\",106.0,mpge,92.0,mpge,\"\",\"\",\"\",\"\",80 kW e-motor,\"\",\"\",24 kWh,\"\",\"\",\"\",\"\",\"\",\"\",\"\",Nissan,http://www.nissanusa.com,ELEC,Electric,Sedan/Wagon,Dedicated\\n10557,41,1,353,\"\",27,iQ EV,2013,\"\",\"\",138.0,mpge,105.0,mpge,\"\",\"\",Auto,\"\",47 kW e-motor,\"\",\"\",12.0 kWh,\"\",\"\",\"\",\"\",\"\",\"\",\"\",Scion,http://www.scion.com/,ELEC,Electric,Sedan/Wagon,Dedicated\\n10539,41,1,381,\"\",27,ForTwo,2013,\"\",\"\",112.0,mpge,88.0,mpge,\"\",\"\",\"\",\"\",55 kW e-motor,\"\",\"\",17.6kWh,\"\",\"\",\"\",\"\",\"\",\"\",Select markets only,Smart,http://www.smartusa.com/,ELEC,Electric,Sedan/Wagon,Dedicated\\n10546,41,1,237,\"\",27,Model S,2013,\"\",\"\",88.0,mpge,90.0,mpge,\"\",\"\",Auto,\"\",300 kW e-motor,\"\",\"\",40 kWh,\"\",\"\",\"\",\"\",\"\",\"\",\"\",Tesla,http://www.teslamotors.com/design/gallery-body.php,ELEC,Electric,Sedan/Wagon,Dedicated\\n10556,41,1,221,\"\",29,RAV 4 EV,2013,\"\",\"\",78.0,mpge,74.0,mpge,\"\",\"\",Auto,\"\",115 kW e-motor,\"\",\"\",41.8 Kwh,\"\",\"\",\"\",\"\",\"\",\"\",Select availability,Toyota,http://www.toyota.com,ELEC,Electric,SUV,Dedicated\\n10420,41,1,363,\"\",27,CODA,2012,\"\",\"\",77.0,MPGe,68.0,MPGe,\"\",\"\",Automatic,\"\",100kW e-motor,\"\",\"\",LiFePO4,\"\",\"\",\"\",\"\",\"\",Available for Federal and State incentives,\"\",Coda Automotive,http://www.codaautomotive.com/,ELEC,Electric,Sedan/Wagon,Dedicated\\n10303,41,1,219,\"\",27,Focus EV,2012,100,\"\",\"\",mpg,\"\",mpg,\"\",\"\",\"\",105 kW e-motor,\"\",\"\",\"\",Li-Ion,\"\",\"\",\"\",\"\",\"\",Estimated e-range 100 miles per charge,\"\",Ford,http://www.fordvehicles.com,ELEC,Electric,Sedan/Wagon,Dedicated\\n10304,41,1,219,\"\",9,Ford Azure Transit Connect,2012,\"\",\"\",62.0,mpge,62.0,mpge,\"\",\"\",\"\",52 kW e-motor,\"\",\"\",\"\",Li-Ion,\"\",\"\",\"\",\"\",\"\",Estimated range 56 miles per charge.,\"\",Ford,http://www.fordvehicles.com,ELEC,Electric,Van,Dedicated\\n10357,41,1,209,\"\",27,Fit EV,2012,100,\"\",\"\",mpg,\"\",mpg,\"\",\"\",3 mode / 1 speed,\"\",\"\",\"\",\"\",Li-Ion,\"\",\"\",\"\",\"\",\"\",\"\",\"\",Honda,http://automobiles.honda.com,ELEC,Electric,Sedan/Wagon,Dedicated\\n10371,41,1,263,\"\",27,Mitusbishi i,2012,100,\"\",126.0,MPGe,99.0,MPGe,\"\",\"\",\"\",66 kW e-motor,\"\",\"\",\"\",Li-Ion,\"\",\"\",\"\",\"\",\"\",Estimated electric range 56 miles per charge.,\"\",Mitsubishi,http://www.mitsubishicars.com/MMNA/jsp/find.do?loc=en-us,ELEC,Electric,Sedan/Wagon,Dedicated\\n10375,41,1,217,\"\",27,Leaf,2012,100,\"\",106.0,MPGe,92.0,MPGe,\"\",\"\",Automatic / 1 speed,80 kW e-motor,\"\",\"\",\"\",Li-Ion,\"\",\"\",\"\",\"\",\"\",Estimated electric range 72 miles per charge.,\"\",Nissan,http://www.nissanusa.com,ELEC,Electric,Sedan/Wagon,Dedicated\\n10378,41,1,357,\"\",27,Model S,2012,\"\",\"\",88.0,MPGe,90.0,MPGe,\"\",\"\",Auto,e-motor,300 kW,\"\",\"\",Li-Ion,\"\",\"\",\"\",\"\",\"\",\"\",\"\",Tesla Motors,http://www.teslamotors.com,ELEC,Electric,Sedan/Wagon,Dedicated\\n10386,41,1,221,\"\",29,RAV4 EV,2012,100,\"\",\"\",mpg,\"\",mpg,\"\",\"\",\"\",\"\",\"\",\"\",\"\",Li-Ion,\"\",\"\",\"\",\"\",\"\",\"\",\"\",Toyota,http://www.toyota.com,ELEC,Electric,SUV,Dedicated\\n10389,41,1,241,\"\",27,LiFe,2012,100,\"\",\"\",mpg,\"\",mpg,\"\",\"\",\"\",15 kW e-motor,\"\",\"\",\"\",\"\",\"\",\"\",\"\",\"\",\"\",\"\",\"\",\"Wheego Electric Cars, Inc.\",\"\",ELEC,Electric,Sedan/Wagon,Dedicated\\n10200,41,1,219,\"\",9,Ford  Azure Transit Connect,2011,80,80,62.0,mpg,\"\",mpg,\"\",\"\",\"\",52 kW e-motor,\"\",\"\",\"\",Li-Ion,\"\",\"\",\"\",\"\",\"\",The all-electric Azure Ford Transit Connect van uses Azure Dynamics\\' Force Drive to power the zero emission vehicle that has up to an 80-mile range per charge.,\"\",Ford,http://www.fordvehicles.com,ELEC,Electric,Van,Dedicated\\n10128,41,1,217,\"\",27,Leaf,2011,100,100,\"\",mpg,\"\",mpg,\"\",\"\",None,\"\",\"\",\"\",\"\",\"\",\"\",\"\",\"\",\"\",\"\",\"\",\"\",Nissan,http://www.nissanusa.com,ELEC,Electric,Sedan/Wagon,Dedicated\\n10058,41,1,217,\"\",27,LEAF,2011,73,73,0.32,KWh/m,0.37,KWh/m,\"\",\"\",None,AC electric motor,\"\",\"\",\"\",Lithium-ion,\"\",\"\",\"\",\"\",\"\",\"\",\"\",Nissan,http://www.nissanusa.com,ELEC,Electric,Sedan/Wagon,Dedicated\\n10060,41,1,357,\"\",27,Roadster 2.5,2011,245,245,0.3,KWh/m,0.3,KWh/m,\"\",\"\",\"\",\"\",\"\",\"\",\"\",\"\",\"\",\"\",\"\",\"\",\"\",\"\",\"\",Tesla Motors,http://www.teslamotors.com,ELEC,Electric,Sedan/Wagon,Dedicated\\n955,41,1,357,\"\",27,Roadster,2010,\"\",\"\",\"\",\"\",\"\",\"\",\"\",\"\",\"\",\"\",\"\",\"\",\"\",Lithium-Ion,\"\",\"\",\"\",\"\",\"\",\"\",\"\",Tesla Motors,http://www.teslamotors.com,ELEC,Electric,Sedan/Wagon,Dedicated\\n928,41,1,357,\"\",27,Roadster 2.5,2009,230,230,\"\",\"\",\"\",\"\",\"\",\"\",\"\",\"\",\"\",\"\",\"\",\"\",\"\",\"\",45 minutes,\"\",\"\",The Tesla Roadster is an all-electric plug-in vehicle with a range of 220 miles on stored electric power. Each vehicle is custom built and is available in both a roadster and convertible models.,\"\",Tesla Motors,http://www.teslamotors.com,ELEC,Electric,Sedan/Wagon,Dedicated\\n281,41,1,319,\"\",9,Citivan,2004,\"\",\"\",800.0,Watt-hours per mile,800.0,Watt-hours per mile,\"\",\"\",Single-speed automatic,110kW Solectria AC Induction Direct-Drive,\"\",\"\",\"\",Lead Acid,312,\"\",9 hrs,\"\",Contact Solectria for vehicle availability and lead times.  781-932-9009  ,This delivery van is powered by a 110kW Solectria AC Induction Direct-Drive motor with regenerative braking and a single-speed automatic drive system. It is ideal for demanding applications in urban environments. ,\"\",Solectria,http://www.solectria.com,ELEC,Electric,Van,Dedicated\\n264,41,1,219,\"\",27,TH!NK City,2003,53,\"\",\"\",mpgge,\"\",mpgge,\"\",\"\",\"\",Three-phase AC induction,\"\",\"\",\"\",NiCd,114,6 hrs,\"\",\"\",Available spring 2003,\"This 2-passenger electric vehicle (EV) has a top speed of 56 mph and is capable of traveling up to 53 on a single charge. TH!NK City also features dent resistant and non-corrosive thermoplastic body panels and a whisper-quiet, 3 phase AC induction motor.\",\"\",Ford,http://www.fordvehicles.com,ELEC,Electric,Sedan/Wagon,Dedicated\\n279,41,1,217,\"\",27,Altra EV,2003,80,\"\",26.0,kWh/100miles,29.0,kWh/100miles,\"\",\"\",transaxle w/2-stage gear set,Permanent Magnet Synchronous Motor,\"\",0,\"\",Lithium-ion,345V,\"\",5 hours,\"\",The Nissan Altra EV in only available for lease by select commercial fleets in California. ,\"The Nissan Altra EV is a four-passenger electric wagon     powered by lithium-ion battery technology. The Altra EV has a \"\"real world\"\" range of up to 80 miles per charge, and a top speed of 75 miles per hour. The Altra EV is available for lease to fleets in the state of California. \",\"\",Nissan,http://www.nissanusa.com,ELEC,Electric,Sedan/Wagon,Dedicated\\n280,41,1,217,\"\",27,Hypermini,2003,\"\",\"\",\"\",kWh/100miles,\"\",kWh/100miles,\"\",\"\",\"\",Neodymium Magnet AC Synchronous,\"\",\"\",\"\",Lithium-ion,\"\",\"\",4 hrs,\"\",The Hypermini in only available for lease by select commercial fleets in California. ,This two passenger electric vehicle is powered by lightweight lithium-ion batteries. The Hypermini in only available for lease by select commercial fleets in California. ,\"\",Nissan,http://www.nissanusa.com,ELEC,Electric,Sedan/Wagon,Dedicated\\n572,41,1,319,\"\",9,Citivan,2003,\"\",\"\",800.0,Watt-hours per mile,800.0,Watt-hours per mile,\"\",\"\",Single-speed automatic,110kW Solectria AC Induction Direct-Drive,\"\",\"\",\"\",Lead Acid,312,\"\",9 hrs,\"\",Contact Solectria for vehicle availability and lead times.  781-932-9009,This delivery van is powered by a 110kW Solectria AC Induction Direct-Drive motor with regenerative braking and a single-speed automatic drive system. It is ideal for demanding applications in urban environments.,\"\",Solectria,http://www.solectria.com,ELEC,Electric,Van,Dedicated\\n262,41,1,221,\"\",29,RAV4-EV,2003,126,\"\",27.0,kWh/100miles,34.0,kWh/100miles,25.0,31.0,Single speed,Permanent-Magnet 50 kW DC,\"\",\"\",\"\",Nickel-metal hydride,288,\"\",8 hours,\"\",Available from your local Toyota dealer.  12 week delivery time. ,This all-electric SUV has a top speed of 78 mph and maximum range of 126 miles per charge. The RAV-4 EV is only for sale in the state of California. ,\"\",Toyota,http://www.toyota.com,ELEC,Electric,SUV,Dedicated\\n183,41,1,219,\"\",25,Ranger EV(Lead Acid),2002,\"\",\"\",38.0,kWh/100miles,44.0,kWh/100miles,17.0,22.0,single-speed,\"High Efficiency, liquid cooled, 3-phase 67 kW AC induction\",\"\",\"\",\"\",Lead Acid,8 volts,\"\",6 hours,\"\",The Ranger EV is available only by lease. Limited production anticipated for 2002 model.  Call your regional Ford representative for the latest information on the Ranger EV.,The Ranger electric vehicle comes in an XL Regular Cab 4x2 model.,\"\",Ford,http://www.fordvehicles.com,ELEC,Electric,Truck,Dedicated\\n169,41,1,219,\"\",27,Th!NK City,2002,53,\"\",\"\",mpgge,\"\",mpgge,\"\",\"\",\"\",Three-phase AC induction,\"\",\"\",\"\",NiCd,114,6 hrs,\"\",\"\",The Th!nk City is not yet in production. Call your regional Ford representative for the latest information on Th!nk City production projections.,\"\",\"\",Ford,http://www.fordvehicles.com,ELEC,Electric,Sedan/Wagon,Dedicated\\n206,41,1,217,\"\",27,Altra EV,2002,\"\",\"\",26.0,kWh/100miles,29.0,kWh/100miles,\"\",\"\",transaxle w/2-stage gear set,Permanent Magnet Synchronous Motor,\"\",0,\"\",Lithium-ion,345V,\"\",5 hours,\"\",Only available for lease by commercial fleets in California,\"The Nissan Altra EV is a four-passenger electric wagon     powered by lithium-ion battery technology. The Altra EV has a \\'\\'real world\\'\\' range of up to 80 miles per charge, and a top speed of 75 miles per hour. The Altra EV is available for lease to fleets in the state of California. Monthly lease price is $599 per month.\",\"\",Nissan,http://www.nissanusa.com,ELEC,Electric,Sedan/Wagon,Dedicated\\n207,41,1,217,\"\",27,Hypermini,2002,\"\",\"\",\"\",kWh/100miles,\"\",kWh/100miles,\"\",\"\",\"\",Neodymium Magnet AC Synchronous,\"\",\"\",\"\",Lithium-ion,\"\",\"\",4 hrs,\"\",\"\",This two passenger electric vehicle is powered                   by lightweight lithium-ion batteries. The   Hypermini                 is available to select fleets in the   state of California for lease only. Monthly lease price   is $99 per month.,\"\",Nissan,http://www.nissanusa.com,ELEC,Electric,Sedan/Wagon,Dedicated\\n208,41,1,319,\"\",9,Citivan,2002,\"\",\"\",\"\",kWh/100miles,\"\",kWh/100miles,\"\",0.0,Type Single-speed automatic,70kW Solectria AC Induction Direct-Drive,\"\",\"\",\"\",Lead Acid,312,\"\",15 hrs,\"\",Order window for 2002 model Citivan is open. All vehicles are made to order.  Delivery time is approximately 4 months. Call Solectria for a quote and delivery details.,This delivery van is powered by a 70kW Solectria AC Induction                         Direct-Drive motor with regenerative             braking         and     a Single-speed     automatic     drive     system.     It is   ideal       for     demanding     applications     in   urban     environments.,\"\",Solectria,http://www.solectria.com,ELEC,Electric,Van,Dedicated\\n209,41,1,221,\"\",29,RAV4-EV,2002,126,\"\",29.0,kWh/100miles,37.0,kWh/100miles,22.0,26.0,single speed,Permanent-Magnet 50 kW DC,\"\",\"\",\"\",Nickel-metal hydride,288,\"\",8 hours,\"\",\"\",The RAV4-EV is available for lease by selected fleets for $599 a month.,\"\",Toyota,http://www.toyota.com,ELEC,Electric,SUV,Dedicated\\n92,41,1,219,\"\",25,Ranger EV(Lead Acid),2001,\"\",\"\",38.0,kWh/100miles,44.0,kWh/100miles,\"\",\"\",single-speed,\"High Efficiency, liquid cooled, 3-phase 67 kW AC induction\",\"\",\"\",\"\",Lead Acid,8 volts,\"\",6 hours,\"\",\"\",The 2001 Electric Ranger is a battery powered compact     pickup     truck.         This     Zero   emission         vehicle   is powered     by a     fourth           generation         lead acid   battery     and     is available           for   lease     only     at $599   per month.,\"\",Ford,http://www.fordvehicles.com,ELEC,Electric,Truck,Dedicated\\n104,41,1,317,\"\",27,EV1-Lead Acid,2001,\"\",\"\",26.0,kWh/100miles,26.0,kWh/100miles,\"\",\"\",single speed w/dual reduction,\"Three Phase, Alternating Current, AC Induction\",\"\",\"\",\"\",Lead acid,312 V,22-24 hrs,5.5-6 hrs,\"\",\"\",\"Electric Powered, Zero emission vehicle powered by a lead-acid battery.\",\"\",General Motors EV,\"\",ELEC,Electric,Sedan/Wagon,Dedicated\\n105,41,1,317,\"\",27,EV1-NiMH,2001,\"\",\"\",34.0,kWh/100miles,30.0,kWh/100miles,\"\",\"\",single speed w/dual reduction,\"\",\"\",\"\",\"\",Nickel - Metal Hydride,343,\"\",6-8 hrs,\"\",\"\",\"Electric Powered, Zero emission vehicle powered by a nickel-metal     hydride battery.\",\"\",General Motors EV,\"\",ELEC,Electric,Sedan/Wagon,Dedicated\\n131,41,1,217,\"\",27,Altra EV,2001,\"\",\"\",26.0,kWh/100miles,29.0,kWh/100miles,\"\",\"\",transaxle w/2-stage gear set,Permanent Magnet Synchronous Motor,\"\",0,\"\",Lithium-ion,345V,\"\",5 hours,\"\",\"\",The Nissan Altra EV is a four-passenger electric wagon                     powered by lithium-ion battery technology.       The     Altra       EV   is available for lease   to   fleets in the state of California.   Monthly       lease     price is $599   per month.,\"\",Nissan,http://www.nissanusa.com,ELEC,Electric,Sedan/Wagon,Dedicated\\n570,41,1,217,\"\",27,Hypermini (CA only),2001,\"\",\"\",\"\",kWh/100miles,\"\",kWh/100miles,\"\",\"\",\"\",Neodymium Magnet AC Synchronous,\"\",\"\",\"\",Lithium-ion,\"\",\"\",4 hrs,\"\",The Hypermini in only available for lease by select commercial fleets in California.,This two passenger electric vehicle is powered by lightweight lithium-ion batteries. The Hypermini in only available for lease by select commercial fleets in California.,\"\",Nissan,http://www.nissanusa.com,ELEC,Electric,Sedan/Wagon,Dedicated\\n130,41,1,319,\"\",9,Citivan,2001,\"\",\"\",\"\",kWh/100miles,\"\",kWh/100miles,\"\",0.0,Type Single-speed automatic,70kW Solectria AC Induction Direct-Drive,\"\",\"\",\"\",Lead Acid,312,\"\",15 hrs,\"\",\"\",This delivery van is powered by a 70kW Solectria AC Induction    Direct-Drive motor with regenerative  braking and a single-speed     automatic     drive     system.     It is   ideal       for     demanding     applications     in   urban     environments.,\"\",Solectria,http://www.solectria.com,ELEC,Electric,Van,Dedicated\\n128,41,1,319,\"\",25,Flash,2001,45,\"\",\"\",\"\",\"\",\"\",0.0,0.0,\"single-speed, fixed ratio\",34kW AC Induction Drive,\"\",\"\",\"\",\"Sealed, maint.-free, lead-acid\",144V nominal,6 hours,3 hours,\"\",\"\",\"All-electric, emission-free, micro pickup truck. Standard       Equipment includes a high-efficiency 34kW AC induction       drive system with direct drive and regenerative   braking,     sealed, maintenance-free lead-acid batteries;     onboard   charger for  3 hour full recharge.\",\"\",Solectria,http://www.solectria.com,ELEC,Electric,Truck,Dedicated\\n129,41,1,319,\"\",27,Force,2001,85,\"\",13.7,kWh/100miles,\"\",kWh/100miles,30.0,34.0,\"single-speed, fixed ratio\",\"\",\"\",\"\",\"\",Nickel Cadmium,156V nominal,0,6 hours,\"\",\"\",\"All-electric available with Lead Acid, Nickel Cadmium or               Nickel Metal hydride batteries, emission-free,4-passenger,              4-door sedan. Automatic Direct-Drive       and   regenerative     braking, range-power   control,     dual airbags,     power-assist   brakes,   electric   heater/defroster.\",\"\",Solectria,http://www.solectria.com,ELEC,Electric,Sedan/Wagon,Dedicated\\n123,41,1,221,\"\",27,E-COM,2001,\"\",\"\",\"\",kWh/100miles,\"\",kWh/100miles,\"\",\"\",\"\",Permanent-Magnet,\"\",\"\",\"\",\"\",\"\",\"\",\"\",\"\",\"\",\"Toyota\\'s new electric concept car, the e-com. Ideal for   universities, resorts, planned communities, corporate campuses.   It uses 24 sealed nickel-metal hydride batteries   which provide a range of about 60   miles.\",\"\",Toyota,http://www.toyota.com,ELEC,Electric,Sedan/Wagon,Dedicated\\n122,41,1,221,\"\",29,RAV4-EV,2001,\"\",\"\",29.0,kWh/100miles,37.0,kWh/100miles,22.0,26.0,single speed,Permanent-Magnet 50 kW DC,\"\",\"\",\"\",Nickel-metal hydride,288,\"\",6-8 hours,\"\",\"\",Toyota is marketing an electric version of its 4-door RAV4                   sports-utility vehicle to fleet users.        The     RAV4-EVs       will be among the first   mass-produced       vehicles     to   use   advanced nickel-metal     hydride     batteries.,\"\",Toyota,http://www.toyota.com,ELEC,Electric,SUV,Dedicated\\n579,41,1,215,\"\",25,Chevrolet S-10 NiMH,2000,\"\",\"\",94.0,kWh/100miles,86.0,kWh/100miles,16.0,21.0,single-speed,\"\",\"\",\"\",\"\",Nickel - Metal Hydride,\"\",Not recommended,\"\",\"\",\"\",\"This electric version of the Chevy S-10 pickup operates             on nickel-metal hydride batteries and has dual   air bags, air     conditioning and 4-wheel ABS brakes.\",\"\",Chevrolet,http://www.chevrolet.com,ELEC,Electric,Truck,Dedicated\\n578,41,1,215,\"\",25,Chevrolet S-10 PbA,2000,\"\",\"\",45.0,kWh/100miles,41.0,kWh/100miles,16.0,21.0,single-speed,\"\",\"\",\"\",\"\",lead-acid,312V,Not recommended,3.5-4 hours,\"\",\"\",\"This electric version of the Chevy S-10 pickup operates on lead-acid batteries and has dual air bags, air conditioning     and 4-wheel ABS brakes.\",\"\",Chevrolet,http://www.chevrolet.com,ELEC,Electric,Truck,Dedicated\\n79,41,1,223,\"\",9,Voyager EPIC,2000,\"\",\"\",67.0,kWh/100miles,73.0,kWh/100miles,20.0,26.0,single-speed,\"\",\"\",\"\",\"\",nickel metal hydride,360 volts,\"\",8-10 hours,\"\",\"\",The Epic Minivan is manufactured by Dodge and Plymouth and         is electric powered.,\"\",Chrysler,http://www.chrysler.com,ELEC,Electric,Van,Dedicated\\n75,41,1,225,\"\",9,Caravan EPIC,2000,\"\",\"\",67.0,kWh/100miles,\"\",kWh/100miles,\"\",26.0,single-speed,\"\",\"\",\"\",\"\",nickel metal hydride,336,\"\",8-10 hours,\"\",\"\",\"\",\"\",Dodge,http://www.dodge.com,ELEC,Electric,Van,Dedicated\\n73,41,1,219,\"\",25,Ranger EV-NiMH PbA,2000,\"\",\"\",38.0,kWh/100miles,44.0,kWh/100miles,19.0,26.0,single-speed,\"\",\"\",\"\",\"\",Nickel-Metal Hydride or PbA,8 volts,\"\",6-8 hours,\"\",\"\",\"The 2000 Ranger EV is offered with 2 battery options:  Lead-Acid     (PbA)  and Nickel Metal Hydride (NiMH).  The   NiMH   battery pack is lighter than   the lead acid version,     enabling the NiMH Ranger EV to   carry an improved   payload   (up to 1250 lbs.). Price quoted is lead-acid   batteries\",\"\",Ford,http://www.fordvehicles.com,ELEC,Electric,Truck,Dedicated\\n580,41,1,219,\"\",27,Th!NK City-sel mrkts,2000,\"\",\"\",\"\",mpgge,\"\",mpgge,\"\",\"\",\"\",Three-phase AC induction,\"\",\"\",\"\",NiCd,114,6 hrs,\"\",\"\",The Th!nk City is not yet in production. Call your regional Ford representative for the latest information on Th!nk City production projections.,\"\",\"\",Ford,http://www.fordvehicles.com,ELEC,Electric,Sedan/Wagon,Dedicated\\n577,41,1,317,\"\",27,EV1-Lead Acid,2000,\"\",\"\",26.0,kWh/100miles,26.0,kWh/100miles,\"\",\"\",single speed w/dual reduction,\"Three Phase, Alternating Current, AC Induction\",\"\",\"\",\"\",Lead acid,312 V,22-24 hrs,5.5-6 hrs,\"\",\"\",\"Electric Powered, Zero emission vehicle powered by a lead-acid battery.\",\"\",General Motors EV,\"\",ELEC,Electric,Sedan/Wagon,Dedicated\\n576,41,1,317,\"\",27,EV1-NiMH,2000,\"\",\"\",34.0,kWh/100miles,30.0,kWh/100miles,\"\",\"\",single speed w/dual reduction,\"\",\"\",\"\",\"\",Nickel - Metal Hydride,343,\"\",6-8 hrs,\"\",\"\",\"Electric Powered, Zero emission vehicle powered by a nickel-metal     hydride battery.\",\"\",General Motors EV,\"\",ELEC,Electric,Sedan/Wagon,Dedicated\\n81,41,1,217,\"\",27,Altra EV,2000,\"\",\"\",26.0,kWh/100miles,29.0,kWh/100miles,0.0,0.0,transaxle w/2-stage gear set,\"\",\"\",0,\"\",Lithium-ion,345V,\"\",5 hours,\"\",\"\",The Nissan Altra EV is a four-passenger     electric van   powered by lithium-ion battery technology.,\"\",Nissan,http://www.nissanusa.com,ELEC,Electric,Sedan/Wagon,Dedicated\\n83,41,1,319,\"\",25,Flash,2000,\"\",\"\",\"\",\"\",\"\",\"\",0.0,0.0,\"single-speed, fixed ratio\",\"\",\"\",\"\",\"\",\"Sealed, maint.-free, lead-acid\",144V nominal,6 hours,3 hours,\"\",\"\",\"All-electric, emission-free, micro pickup truck.  Direct     drive  and regenerative braking, AM/FM stereo radio,   bias-ply   tires.\",\"\",Solectria,http://www.solectria.com,ELEC,Electric,Truck,Dedicated\\n84,41,1,319,\"\",27,Force NiCd PbA NiMH,2000,\"\",\"\",13.7,kWh/100miles,\"\",kWh/100miles,30.0,34.0,\"single-speed, fixed ratio\",\"\",\"\",\"\",\"\",Nickel Cadmium,156V nominal,0,6 hours,\"\",\"\",\"All-electric available with Lead Acid, Nickel Cadmium or Nickel Metal hydride batteries, emission-free, 4-passenger, 4-door sedan.        Automatic  Direct-Drive and regenerative braking,   range-power     control,  dual airbags, power-assist brakes,     electric   heater/defroster.\",\"\",Solectria,http://www.solectria.com,ELEC,Electric,Sedan/Wagon,Dedicated\\n82,41,1,221,\"\",29,RAV4-EV,2000,\"\",\"\",29.0,kWh/100miles,37.0,kWh/100miles,22.0,26.0,single speed,\"\",\"\",\"\",\"\",Nickel-metal hydride,288V,0,6-8 hours,\"\",\"\",Toyota is marketing an electric version of its 4-door RAV4   sports-utility vehicle to fleet users.  The RAV4-EVs   will be among the first mass-produced vehicles to use   advanced nickel-metal hydride batteries.,\"\",Toyota,http://www.toyota.com,ELEC,Electric,SUV,Dedicated\\n44,41,1,215,\"\",25,Chevrolet S-10 L/A,1999,47,35,45.0,kWh/100miles,41.0,kWh/100miles,16.0,21.0,single-speed,\"\",\"\",\"\",\"\",lead-acid,312V,Not recommended,3.5-4 hours,\"3-yr./36,000 mile warranty (2 year/20,000 mile - battery       only)\",\"\",\"This electric version of the Chevy S-10 pickup operates on lead-acid batteries and has dual air bags, air conditioning     and 4-wheel ABS brakes.\",\"\",Chevrolet,http://www.chevrolet.com,ELEC,Electric,Truck,Dedicated\\n53,41,1,215,\"\",25,Chevrolet S-10 NiMH,1999,96,\"\",94.0,kWh/100miles,86.0,kWh/100miles,16.0,21.0,single-speed,\"\",\"\",\"\",\"\",Nickel - Metal Hydride,\"\",Not recommended,\"\",\"\",\"\",\"This electric version of the Chevy S-10 pickup operates             on nickel-metal hydride batteries and has dual   air bags, air     conditioning and 4-wheel ABS brakes.\",\"\",Chevrolet,http://www.chevrolet.com,ELEC,Electric,Truck,Dedicated\\n23,41,1,223,\"\",9,Epic Minivan,1999,96,90,67.0,kWh/100miles,73.0,kWh/100miles,20.0,26.0,single-speed,\"\",\"\",\"\",\"\",nickel metal hydride,360 volts,\"\",8-10 hours,\"\",\"\",The Epic Minivan is manufactured by Dodge and Plymouth and       is electric powered.,\"\",Chrysler,http://www.chrysler.com,ELEC,Electric,Van,Dedicated\\n600,41,1,225,\"\",9,Caravan EPIC,1999,\"\",\"\",67.0,kWh/100miles,\"\",kWh/100miles,\"\",26.0,single-speed,\"\",\"\",\"\",\"\",nickel metal hydride,336,\"\",8-10 hours,\"\",\"\",CA and NY lease to fleets only.,\"\",Dodge,http://www.dodge.com,ELEC,Electric,Van,Dedicated\\n37,41,1,219,\"\",25,Ranger EV-Lead Acid,1999,72,77,38.0,kWh/100miles,44.0,kWh/100miles,16.0,21.0,single-speed,\"\",\"\",\"\",\"\",Sealed Lead-acid,312 volts,\"\",\"\",OEM warranty,\"\",The 1999 Ranger EV is offered with 2 battery options:  Lead-Acid and Nickel Metal Hydride (NiMH).  The lead-acid battery option pickup is available throughout the country from selected dealers.,kkg-change in web address and dealer locator URLs,Ford,http://www.fordvehicles.com,ELEC,Electric,Truck,Dedicated\\n51,41,1,219,\"\",25,Ranger EV-NiMH,1999,77,77,0.0,\"\",0.0,\"\",16.0,21.0,single-speed,\"\",\"\",\"\",\"\",Nickel-Metal Hydride,300 volts,\"\",\"\",OEM warranty,\"\",\"The 1999 Ranger EV is offered with 2 battery options:  Lead-Acid and Nickel Metal Hydride (NiMH).  Available in California only, the NiMH battery pack is lighter than the lead acid version, enabling the NiMH Ranger EV to carry an improved payload (up to 1250 lbs.).\",kkg-change in web address and dealer locator URLs,Ford,http://www.fordvehicles.com,ELEC,Electric,Truck,Dedicated\\n43,41,1,317,\"\",27,EV1-Lead Acid,1999,79,79,30.0,kWh/100miles,25.0,kWh/100miles,0.0,0.0,single speed w/dual reduction,\"Three Phase, Alternating Current, AC Induction\",\"\",\"\",\"\",Lead acid,312 V,15 hours,3 hours,\"\",Lease of 1999 lead acid battery EV-1s is currently being fulfilled in California.,\"The EV1 is a full featured car with dual air bags and the     Anti-lock braking system.  The EV1 also offers most   of   the standards you have come to expect:  power windows     and door locks, air conditioning, cruise control,   and   an AM/FM stero with cassette and CD player.  The   EV1 also   offers programmable climate control and center-mounted     instrumentation.\",\"\",General Motors EV,\"\",ELEC,Electric,Sedan/Wagon,Dedicated\\n52,41,1,317,\"\",27,EV1-NiMH,1999,79,79,34.0,kWh/100miles,30.0,kWh/100miles,0.0,0.0,single speed w/dual reduction,\"\",\"\",\"\",\"\",Nickel - Metal Hydride,343,15 hours,3 hours,\"\",Lease of model year 1999 NiMH battery powered vehicles is currently being fulfilled in California.,\"The EV1 is a full featured car with dual air bags and the           Anti-lock braking system.  The EV1 also offers     most     of   the standards you have come to expect:    power     windows     and door locks, air conditioning,   cruise   control,     and   an AM/FM stero with cassette   and   CD player.    The   EV1 also   offers programmable   climate   control   and center-mounted     instrumentation.\",\"\",General Motors EV,\"\",ELEC,Electric,Sedan/Wagon,Dedicated\\n26,41,1,209,\"\",27,EV Plus,1999,100,84,49.0,kWh/100miles,51.0,kWh/100miles,20.0,28.0,\"single-speed, reduction gear\",\"\",\"\",0,\"\",Nickel-metal hydride,288,\"\",6-8 hours,\"3 year, unlimited mileage, all maintenance included\",\"\",Compact sedan with dual air bags. Honda is offering a lease program for the EV Plus. The vehicle is available in CA and has limited availability in NY. ,\"\",Honda,http://automobiles.honda.com,ELEC,Electric,Sedan/Wagon,Dedicated\\n47,41,1,217,\"\",27,Altra EV,1999,120,80,30.0,kWh/100miles,34.0,kWh/100miles,0.0,0.0,transaxle w/2-stage gear set,\"\",\"\",0,\"\",Lithium-ion,345V,\"\",5 hours,\"\",\"\",\"The Nissan Altra EV is a newly-designed, four-passenger   electric van powered by lithium-ion battery technology.    The Nissan Altra EV will be available to a select number   of demonstration fleet users in California in 1998   and 1999, with consumer availability planned for 2000. \",\"\",Nissan,http://www.nissanusa.com,ELEC,Electric,Sedan/Wagon,Dedicated\\n29,41,1,319,\"\",9,CitiVan,1999,40,\"\",8.5,kWh/100miles,\"\",kWh/100miles,0.0,0.0,\"single-speed, fixed ratio\",\"\",\"\",\"\",\"\",\"Sealed, maint.-free, lead-acid\",312V nominal,20 hours,10 hours,\" 3-Year Vehicle, 2-Year Battery (pro-rated)\",\"\",\"All-electric, zero-emmision delivery van.  Durable aluminum    body, large cargo volume, high payload capacity, power   assisted  steering, power assisted brakes\",\"\",Solectria,http://www.solectria.com,ELEC,Electric,Van,Dedicated\\n30,41,1,319,\"\",25,Flash,1999,45,\"\",\"\",\"\",\"\",\"\",0.0,0.0,\"single-speed, fixed ratio\",\"\",\"\",\"\",\"\",\"Sealed, maint.-free, lead-acid\",144V nominal,6 hours,3 hours,\" 3-Year Vehicle, 2-Year Battery (pro-rated)\",\"\",\"All-electric, emission-free, micro pickup truck.  Direct   drive  and regenerative braking, AM/FM stereo radio, bias-ply   tires.\",\"\",Solectria,http://www.solectria.com,ELEC,Electric,Truck,Dedicated\\n32,41,1,319,\"\",27,Force Lead Acid,1999,57,49,13.7,kWh/100miles,\"\",kWh/100miles,30.0,34.0,\"single-speed, fixed ratio\",\"\",\"\",\"\",\"\",\"Sealed, maint-free, lead-acid\",156V nominal,6-8 hours,3.5 hours,\" 3-Year Vehicle, 2-Year Battery (pro-rated)\",\"\",\"All-electric, emission-free, 4-passenger, 4-door sedan.        Automatic  Direct-Drive and regenerative braking,   range-power     control,  dual airbags, power-assist brakes,     electric   heater/defroster.\",\"\",Solectria,http://www.solectria.com,ELEC,Electric,Sedan/Wagon,Dedicated\\n31,41,1,319,\"\",27,Force NiCd,1999,106,71,13.7,kWh/100miles,\"\",kWh/100miles,30.0,34.0,\"single-speed, fixed ratio\",\"\",\"\",\"\",\"\",Nickel Cadmium,156V nominal,0,6 hours,\" 3-Year Vehicle, 3-Year Battery (pro-rated)\",\"\",\"All-electric, emission-free, 4-passenger, 4-door sedan.    Automatic  Direct-Drive and regenerative braking, range-power   control,  dual airbags, power-assist brakes, electric   heater/defroster.\",\"\",Solectria,http://www.solectria.com,ELEC,Electric,Sedan/Wagon,Dedicated\\n582,41,1,221,\"\",29,RAV4-EV NiMH,1999,\"\",\"\",29.0,kWh/100miles,37.0,kWh/100miles,22.0,26.0,single speed,\"\",\"\",\"\",\"\",Nickel-metal hydride,288V,0,6-8 hours,\"\",\"\",Toyota is marketing an electric version of its 4-door RAV4 sports-utility vehicle to fleet users.  The RAV4-EVs will be among the first mass-produced vehicles to use advanced nickel-metal hydride batteries.,\"\",Toyota,http://www.toyota.com,ELEC,Electric,SUV,Dedicated\\n50,41,1,221,\"\",29,RAV4-EV PbA,1999,\"\",\"\",29.0,kWh/100miles,37.0,kWh/100miles,22.0,26.0,single speed,\"\",\"\",\"\",\"\",Nickel-metal hydride,288V,0,6-8 hours,\"\",\"\",Toyota is marketing an electric version of its 4-door RAV4 sports-utility vehicle to fleet users.  The RAV4-EVs will be among the first mass-produced vehicles to use advanced nickel-metal hydride batteries.,\"\",Toyota,http://www.toyota.com,ELEC,Electric,SUV,Dedicated\\n12,41,1,215,\"\",25,Chevrolet S-10,1998,80,70,94.0,kWh/100miles,86.0,kWh/100miles,28.0,34.0,single-speed,\"\",\"\",\"\",\"\",nickel-metal hydride,330 volts,Not recommended,6-8 hours,\"3-yr./36,000 mile warranty\",\"\",\"This electric version of the Chevy S-10 pickup operates on nickel-metal hydride batteries, which offers longer life and provide better fuel economy.\",Gasoline fuel economy figures are estimates.,Chevrolet,http://www.chevrolet.com,ELEC,Electric,Truck,Dedicated\\n11,41,1,215,\"\",25,Chevrolet S-10 PbA,1998,\"\",\"\",45.0,kWh/100miles,41.0,kWh/100miles,28.0,34.0,single-speed,\"\",\"\",\"\",\"\",lead-acid,312 volts,Not recommended,3.5-4 hours,\"\",\"\",This electric version of the Chevy S-10 pickup operates on lead-acid batteries.,Gasoline fuel economy figures are estimates.,Chevrolet,http://www.chevrolet.com,ELEC,Electric,Truck,Dedicated\\n1,41,1,219,\"\",25,Ranger EV,1998,58,0,0.0,\"\",0.0,\"\",0.0,0.0,automatic,\"high-efficiency, 3-phase AC induction motor\",\"\",0,\"\",sealed lead-acid,312 volts,N/A,6 hours,\"3-yr./36,000 mile warranty (2 yr. warranty on battery pack - 2nd year pro-rated)       \",\"\",\"The Ranger Electric Vehicle (EV) is Ford\\'s 1998 production EV based on its best-selling compact pickup truck, the Ford Ranger.  It has a regular-cab, styleside body style, and short wheelbase.  Other features are 4-Wheel anti-lock brakes and regenerative braking, dual air bags, electro-hydraulic power steering, climate control, lightweight aluminum wheels, and low-rolling-resistance tires.\",kkg-change in web address and dealer locator URLs; No fuel economy figures were given by Ford.,Ford,http://www.fordvehicles.com,ELEC,Electric,Truck,Dedicated\\n594,41,1,317,\"\",27,\"EV1-NiMH (CA,AZ)\",1998,\"\",\"\",34.0,kWh/100miles,30.0,kWh/100miles,\"\",\"\",single speed w/dual reduction,\"\",\"\",\"\",\"\",Nickel - Metal Hydride,343,\"\",6-8 hrs,\"\",Lease of model year 1999 NiMH battery powered vehicles is currently being fulfilled in California.,Lease of model year 1999 NiMH battery powered vehicles is currently being fulfilled in California.,\"\",General Motors EV,\"\",ELEC,Electric,Sedan/Wagon,Dedicated\\n593,41,1,317,\"\",27,\"EV1 - PbA (CA, AZ)\",1998,\"\",\"\",30.0,kWh/100miles,25.0,kWh/100miles,0.0,0.0,single speed w/dual reduction,\"Three Phase, Alternating Current, AC Induction\",\"\",\"\",\"\",Lead acid,312 V,15 hours,3 hours,\"\",Lease of 1999 lead acid battery EV-1s is currently being fulfilled in California.,\"The EV1 is a full featured car with dual air bags and the     Anti-lock braking system.  The EV1 also offers most   of   the standards you have come to expect:  power windows     and door locks, air conditioning, cruise control,   and   an AM/FM stero with cassette and CD player.  The   EV1 also   offers programmable climate control and center-mounted     instrumentation.\",\"\",General Motors EV,\"\",ELEC,Electric,Sedan/Wagon,Dedicated\\n3,41,1,209,\"\",27,EV Plus,1998,80,60,100.0,miles per charge,84.0,miles per charge,0.0,0.0,\"single-speed, reduction gear\",\"\",\"\",0,\"\",nickel-metal hydride,\"\",\"\",6-8 hours,\"\",\"\",\"Compact sedan, with dual air bags. Honda is offering the EV Plus through a lease program. It is currently available in CA, and has limited availability in NY.          \",No sticker price available since the vehicle is only available through lease.  ,Honda,http://automobiles.honda.com,ELEC,Electric,Sedan/Wagon,Dedicated\\n596,41,1,221,\"\",29,RAV4-EV NiMH (Flts.),1998,\"\",\"\",29.0,kWh/100miles,37.0,kWh/100miles,22.0,26.0,single speed,\"\",\"\",\"\",\"\",Nickel-metal hydride,288V,0,6-8 hours,\"\",\"\",Toyota is marketing an electric version of its 4-door RAV4 sports-utility vehicle to fleet users.  The RAV4-EVs will be among the first mass-produced vehicles to use advanced nickel-metal hydride batteries.,\"\",Toyota,http://www.toyota.com,ELEC,Electric,SUV,Dedicated\\n595,41,1,221,\"\",29,RAV4-EV PbA (Fleets),1998,\"\",\"\",29.0,kWh/100miles,37.0,kWh/100miles,22.0,26.0,single speed,\"\",\"\",\"\",\"\",Nickel-metal hydride,288V,0,6-8 hours,\"\",\"\",Toyota is marketing an electric version of its 4-door RAV4 sports-utility vehicle to fleet users.  The RAV4-EVs will be among the first mass-produced vehicles to use advanced nickel-metal hydride batteries.,\"\",Toyota,http://www.toyota.com,ELEC,Electric,SUV,Dedicated\\n616,41,1,215,\"\",25,Chevrolet S-10 PbA,1997,\"\",\"\",45.0,kWh/100miles,41.0,kWh/100miles,28.0,34.0,single-speed,\"\",\"\",\"\",\"\",lead-acid,312 volts,Not recommended,3.5-4 hours,\"\",\"\",This electric version of the Chevy S-10 pickup operates on lead-acid batteries.,Gasoline fuel economy figures are estimates.,Chevrolet,http://www.chevrolet.com,ELEC,Electric,Truck,Dedicated\\n601,41,1,219,\"\",25,Ranger EV,1997,\"\",\"\",0.0,\"\",0.0,\"\",0.0,0.0,automatic,\"high-efficiency, 3-phase AC induction motor\",\"\",0,\"\",sealed lead-acid,312 volts,N/A,6 hours,\"\",\"\",\"The Ranger Electric Vehicle (EV) is Ford\\'s 1998 production EV based on its best-selling compact pickup truck, the Ford Ranger.  It has a regular-cab, styleside body style, and short wheelbase.  Other features are 4-Wheel anti-lock brakes and regenerative braking, dual air bags, electro-hydraulic power steering, climate control, lightweight aluminum wheels, and low-rolling-resistance tires.\",kkg-change in web address and dealer locator URLs; No fuel economy figures were given by Ford.,Ford,http://www.fordvehicles.com,ELEC,Electric,Truck,Dedicated\\n214,41,1,317,\"\",27,EV1-Lead Acid,1997,\"\",\"\",26.0,kWh/100miles,26.0,kWh/100miles,\"\",\"\",single speed w/dual reduction,\"Three Phase, Alternating Current, AC Induction\",\"\",\"\",\"\",Lead acid,312 V,22-24 hrs,5.5-6 hrs,\"\",A second round of leasing for model year 1997 EV-1 lead acid battery powered vehicles is currently being fulfilled in California.,A second round of leasing for model year 1997 EV-1 lead acid battery powered vehicles is currently being fulfilled in California.,\"\",General Motors EV,\"\",ELEC,Electric,Sedan/Wagon,Dedicated\\n630,41,1,225,\"\",9,Plymouth TE Van,1995,\"\",\"\",\"\",mpg,\"\",mpg,\"\",\"\",4-speed automatic,\"\",\"\",6,\"\",\"\",\"\",\"\",\"\",\"\",\"\",\"\",\"\",Dodge,http://www.dodge.com,ELEC,Electric,Van,Dedicated\\n10785,C10 45ft Coach,BYD (Build Your Dream),BYD,60,\"\",\"\",[10409],Electric,Transit Bus,\"\"\\n10783,C6 23ft Coach,BYD (Build Your Dream),BYD,22,\"\",\"\",[10411],Electric,Transit Bus,\"\"\\n10784,C9 40ft Coach,BYD (Build Your Dream),BYD,51,\"\",\"\",[10409],Electric,Transit Bus,\"\"\\n10768,K11 60ft Transit Bus,BYD (Build Your Dream),BYD,57,300 kW e-motor,\"\",[10409],Electric,Transit Bus,Automatic\\n10781,K7 30ft Transit Bus,BYD (Build Your Dream),BYD,25,\"\",\"\",[10414],Electric,Transit Bus,\"\"\\n10767,K9 40ft Transit Bus,BYD (Build Your Dream),BYD,44,Configurable with 150 or 200 kW e-motor,\"\",[10410],Electric,Transit Bus,\"\"\\n10782,K9S 35ft Transit Bus,BYD (Build Your Dream),BYD,35,\"\",\"\",[10410],Electric,Transit Bus,\"\"\\n10779,Q1M,BYD (Build Your Dream),BYD,\"\",\"\",\"\",[10413],Electric,Truck,\"\"\\n10780,Step Van,BYD (Build Your Dream),BYD,\"\",\"\",\"\",[10413],Electric,Truck,\"\"\\n10776,T5,BYD (Build Your Dream),BYD,\"\",\"\",\"\",[10411],Electric,Vocational/Cab Chassis,\"\"\\n10777,T7,BYD (Build Your Dream),BYD,\"\",\"\",\"\",[10411],Electric,Vocational/Cab Chassis,\"\"\\n10778,T9,BYD (Build Your Dream),BYD,\"\",\"\",\"\",[10412],Electric,Truck,\"\"\\n692,HETT,Capacity Trucks,\"\",\"\",\"\",\"\",[],Electric,Tractor,\"\"\\n10281,Eco-Smart 1,DesignLine Corp.,\"\",28,\"Operates up to 120 miles on a single charge under high-density, stop-and-go, urban transit.\",\"\",[10387],Electric,Transit Bus,\"\"\\n10788,40 Foot CompositeEbus,Ebus,\"\",\"\",\"\",\"\",[],Electric,Transit Bus,\"\"\\n10787,EBUS22,Ebus,\"\",22,\"\",\"\",[],Electric,Transit Bus,\"\"\\n10873,- Lion Bus Type C,First Priority GreenFleet,\"\",\"\",\"\",\"\",[],Electric,School Bus,\"\"\\n772,Medium Duty Truck,First Priority GreenFleet,\"\",\"\",\"\",\"\",[],Electric,Truck,\"\"\\n10874,- Trans Tech Type A,First Priority GreenFleet,\"\",\"\",\"\",\"\",[],Electric,School Bus,\"\"\\n773,Walk-In Van,First Priority GreenFleet,\"\",\"\",\"\",\"\",[],Electric,Van,\"\"\\n10602,Electric,GGT Electric,\"\",\"\",\"The GGT all-electric three-seat chassis is available in dropside, dumpbox and box van models. It is powered by a battery using a proprietary blend of lithium ferrous phosphate and manganese dioxide. 40Kw, 60Kw, and 80Kw packages available. Maximum speed is 55 mph with a range of 80-200 miles.\",\"\",[],Electric,Vocational/Cab Chassis,\"\"\\n10403,eStar,Navistar-Modec EV Alliance,\"\",\"\",\"The Class 2-3 eStar all-electric truck has a top speed of 50 mph and 100 mile operating range, designed for urban pickup-and-delivery applications. A123 Systems is producing lithium ion battery packs for the vehicles, and full recharing through a Level 2 recharging system can be completed in 8 hours.\",\"\",[10160],Electric,Step Van,\"\"\\n10837,Xcelsior,New Flyer,\"\",43,\"\",\"\",[],Electric,Transit Bus,\"\"\\n10872,LFSE,Nova Bus,\"\",\"\",\"\",\"\",[10445],Electric,Transit Bus,\"\"\\n10840,Multiple,Orange EV,\"\",\"\",\"\",\"\",[],Electric,Tractor,\"\"\\n10844,Flatbed,Phoenix Motorcars,\"\",\"\",\"\",\"\",[],Electric,Vocational/Cab Chassis,\"\"\\n10843,Shuttle Bus,Phoenix Motorcars,\"\",18,\"\",\"\",[],Electric,Shuttle Bus,\"\"\\n10845,Utility Vehicle,Phoenix Motorcars,\"\",\"\",\"\",\"\",[],Electric,Vocational/Cab Chassis,\"\"\\n10669,Catalyst,Proterra,\"\",40,\"\",\"\",[],Electric,Transit Bus,\"\"\\n10664,ETrans,Trans Tech,\"\",52,\"\",\"\",[],Electric,School Bus,\"\"\\n10848,E-Gen,Workhorse Custom Chassis,\"\",\"\",\"\",\"\",[],Electric,Vocational/Cab Chassis,\"\"\\n10871,250/350 ,Zenith Motors,\"\",\"\",\"\",\"\",[],Electric,Van,\"\"\\n10870,Shuttle Van,Zenith Motors,\"\",\"\",\"\",\"\",[],Electric,Van,\"\"\\n10401,ZeroTruck,ZeroTruck,\"\",\"\",\"\",\"\",[],Electric,Vocational/Cab Chassis,\"\"\\n'}"
            ]
          },
          "metadata": {
            "tags": []
          },
          "execution_count": 5
        }
      ]
    },
    {
      "cell_type": "markdown",
      "metadata": {
        "id": "SBYj_aWZvADh"
      },
      "source": [
        "**Show head an tail of Dataframe**"
      ]
    },
    {
      "cell_type": "code",
      "metadata": {
        "colab": {
          "base_uri": "https://localhost:8080/",
          "height": 445
        },
        "id": "Iak0Ix4zgf3x",
        "outputId": "c87b0120-8a66-400e-ad62-120c3f583ae5"
      },
      "source": [
        "df=pd.read_csv('Vehicles.csv')\n",
        "print(df.shape)\n",
        "df.head()"
      ],
      "execution_count": 28,
      "outputs": [
        {
          "output_type": "stream",
          "text": [
            "(167, 35)\n"
          ],
          "name": "stdout"
        },
        {
          "output_type": "execute_result",
          "data": {
            "text/html": [
              "<div>\n",
              "<style scoped>\n",
              "    .dataframe tbody tr th:only-of-type {\n",
              "        vertical-align: middle;\n",
              "    }\n",
              "\n",
              "    .dataframe tbody tr th {\n",
              "        vertical-align: top;\n",
              "    }\n",
              "\n",
              "    .dataframe thead th {\n",
              "        text-align: right;\n",
              "    }\n",
              "</style>\n",
              "<table border=\"1\" class=\"dataframe\">\n",
              "  <thead>\n",
              "    <tr style=\"text-align: right;\">\n",
              "      <th></th>\n",
              "      <th>Automobile ID</th>\n",
              "      <th>Fuel ID</th>\n",
              "      <th>Fuel Configuration ID</th>\n",
              "      <th>Manufacturer ID</th>\n",
              "      <th>Weight Class ID</th>\n",
              "      <th>Category ID</th>\n",
              "      <th>Model</th>\n",
              "      <th>Model Year</th>\n",
              "      <th>City Range</th>\n",
              "      <th>Highway Range</th>\n",
              "      <th>City Fuel Economy</th>\n",
              "      <th>City Fuel Economy Units</th>\n",
              "      <th>Highway Fuel Economy</th>\n",
              "      <th>Highway Fuel Economy Units</th>\n",
              "      <th>City Gas Fuel Economy</th>\n",
              "      <th>Highway Gas Fuel Economy</th>\n",
              "      <th>Transmission Type</th>\n",
              "      <th>Engine Type</th>\n",
              "      <th>Engine Size</th>\n",
              "      <th>Engine Cylinder Count</th>\n",
              "      <th>Engine Description</th>\n",
              "      <th>Battery Type</th>\n",
              "      <th>Battery Voltage Amps</th>\n",
              "      <th>110v Charge Time</th>\n",
              "      <th>220v Charge Time</th>\n",
              "      <th>Warranty Info</th>\n",
              "      <th>Ordering Info</th>\n",
              "      <th>Description</th>\n",
              "      <th>Comments</th>\n",
              "      <th>Manufacturer</th>\n",
              "      <th>Manufacturer URL</th>\n",
              "      <th>Fuel Code</th>\n",
              "      <th>Fuel</th>\n",
              "      <th>Category</th>\n",
              "      <th>Fuel Configuration Name</th>\n",
              "    </tr>\n",
              "  </thead>\n",
              "  <tbody>\n",
              "    <tr>\n",
              "      <th>0</th>\n",
              "      <td>11636</td>\n",
              "      <td>41</td>\n",
              "      <td>1</td>\n",
              "      <td>211</td>\n",
              "      <td>NaN</td>\n",
              "      <td>27</td>\n",
              "      <td>i3 BEV</td>\n",
              "      <td>2017</td>\n",
              "      <td>NaN</td>\n",
              "      <td>NaN</td>\n",
              "      <td>137.0</td>\n",
              "      <td>Mpge</td>\n",
              "      <td>111.0</td>\n",
              "      <td>Mpge</td>\n",
              "      <td>NaN</td>\n",
              "      <td>NaN</td>\n",
              "      <td>Auto</td>\n",
              "      <td>SI</td>\n",
              "      <td>125 kW</td>\n",
              "      <td>NaN</td>\n",
              "      <td>125 kW electric motor - 60 Amp-hour battery</td>\n",
              "      <td>NaN</td>\n",
              "      <td>NaN</td>\n",
              "      <td>NaN</td>\n",
              "      <td>NaN</td>\n",
              "      <td>NaN</td>\n",
              "      <td>NaN</td>\n",
              "      <td>NaN</td>\n",
              "      <td>NaN</td>\n",
              "      <td>BMW</td>\n",
              "      <td>www.bmwusa.com</td>\n",
              "      <td>ELEC</td>\n",
              "      <td>Electric</td>\n",
              "      <td>Sedan/Wagon</td>\n",
              "      <td>Dedicated</td>\n",
              "    </tr>\n",
              "    <tr>\n",
              "      <th>1</th>\n",
              "      <td>11637</td>\n",
              "      <td>41</td>\n",
              "      <td>1</td>\n",
              "      <td>211</td>\n",
              "      <td>NaN</td>\n",
              "      <td>27</td>\n",
              "      <td>i3 BEV</td>\n",
              "      <td>2017</td>\n",
              "      <td>NaN</td>\n",
              "      <td>NaN</td>\n",
              "      <td>129.0</td>\n",
              "      <td>Mpge</td>\n",
              "      <td>106.0</td>\n",
              "      <td>Mpge</td>\n",
              "      <td>NaN</td>\n",
              "      <td>NaN</td>\n",
              "      <td>Auto</td>\n",
              "      <td>SI</td>\n",
              "      <td>125 kW</td>\n",
              "      <td>NaN</td>\n",
              "      <td>125 kW electric motor - 94 Amp-hour battery</td>\n",
              "      <td>NaN</td>\n",
              "      <td>NaN</td>\n",
              "      <td>NaN</td>\n",
              "      <td>NaN</td>\n",
              "      <td>NaN</td>\n",
              "      <td>NaN</td>\n",
              "      <td>NaN</td>\n",
              "      <td>NaN</td>\n",
              "      <td>BMW</td>\n",
              "      <td>www.bmwusa.com</td>\n",
              "      <td>ELEC</td>\n",
              "      <td>Electric</td>\n",
              "      <td>Sedan/Wagon</td>\n",
              "      <td>Dedicated</td>\n",
              "    </tr>\n",
              "    <tr>\n",
              "      <th>2</th>\n",
              "      <td>11638</td>\n",
              "      <td>41</td>\n",
              "      <td>1</td>\n",
              "      <td>215</td>\n",
              "      <td>NaN</td>\n",
              "      <td>27</td>\n",
              "      <td>Bolt</td>\n",
              "      <td>2017</td>\n",
              "      <td>NaN</td>\n",
              "      <td>NaN</td>\n",
              "      <td>128.0</td>\n",
              "      <td>Mpge</td>\n",
              "      <td>110.0</td>\n",
              "      <td>Mpge</td>\n",
              "      <td>NaN</td>\n",
              "      <td>NaN</td>\n",
              "      <td>Auto</td>\n",
              "      <td>SI</td>\n",
              "      <td>150 kW</td>\n",
              "      <td>NaN</td>\n",
              "      <td>150 kW electric motor</td>\n",
              "      <td>NaN</td>\n",
              "      <td>NaN</td>\n",
              "      <td>NaN</td>\n",
              "      <td>NaN</td>\n",
              "      <td>NaN</td>\n",
              "      <td>NaN</td>\n",
              "      <td>NaN</td>\n",
              "      <td>NaN</td>\n",
              "      <td>Chevrolet</td>\n",
              "      <td>http://www.chevrolet.com</td>\n",
              "      <td>ELEC</td>\n",
              "      <td>Electric</td>\n",
              "      <td>Sedan/Wagon</td>\n",
              "      <td>Dedicated</td>\n",
              "    </tr>\n",
              "    <tr>\n",
              "      <th>3</th>\n",
              "      <td>11639</td>\n",
              "      <td>41</td>\n",
              "      <td>1</td>\n",
              "      <td>379</td>\n",
              "      <td>NaN</td>\n",
              "      <td>27</td>\n",
              "      <td>500e</td>\n",
              "      <td>2017</td>\n",
              "      <td>NaN</td>\n",
              "      <td>NaN</td>\n",
              "      <td>NaN</td>\n",
              "      <td>NaN</td>\n",
              "      <td>NaN</td>\n",
              "      <td>NaN</td>\n",
              "      <td>NaN</td>\n",
              "      <td>NaN</td>\n",
              "      <td>Auto</td>\n",
              "      <td>SI</td>\n",
              "      <td>82 kW</td>\n",
              "      <td>NaN</td>\n",
              "      <td>82 kW electric motor</td>\n",
              "      <td>NaN</td>\n",
              "      <td>NaN</td>\n",
              "      <td>NaN</td>\n",
              "      <td>NaN</td>\n",
              "      <td>NaN</td>\n",
              "      <td>NaN</td>\n",
              "      <td>NaN</td>\n",
              "      <td>NaN</td>\n",
              "      <td>Fiat</td>\n",
              "      <td>http://www.fiatusa.com/</td>\n",
              "      <td>ELEC</td>\n",
              "      <td>Electric</td>\n",
              "      <td>Sedan/Wagon</td>\n",
              "      <td>Dedicated</td>\n",
              "    </tr>\n",
              "    <tr>\n",
              "      <th>4</th>\n",
              "      <td>11640</td>\n",
              "      <td>41</td>\n",
              "      <td>1</td>\n",
              "      <td>351</td>\n",
              "      <td>NaN</td>\n",
              "      <td>27</td>\n",
              "      <td>Ioniq</td>\n",
              "      <td>2017</td>\n",
              "      <td>NaN</td>\n",
              "      <td>NaN</td>\n",
              "      <td>NaN</td>\n",
              "      <td>NaN</td>\n",
              "      <td>NaN</td>\n",
              "      <td>NaN</td>\n",
              "      <td>NaN</td>\n",
              "      <td>NaN</td>\n",
              "      <td>Auto</td>\n",
              "      <td>SI</td>\n",
              "      <td>NaN</td>\n",
              "      <td>NaN</td>\n",
              "      <td>NA/88 kW/28 kW</td>\n",
              "      <td>NaN</td>\n",
              "      <td>NaN</td>\n",
              "      <td>NaN</td>\n",
              "      <td>NaN</td>\n",
              "      <td>NaN</td>\n",
              "      <td>NaN</td>\n",
              "      <td>NaN</td>\n",
              "      <td>NaN</td>\n",
              "      <td>Hyundai</td>\n",
              "      <td>http://www.hyundaiusa.com/</td>\n",
              "      <td>ELEC</td>\n",
              "      <td>Electric</td>\n",
              "      <td>Sedan/Wagon</td>\n",
              "      <td>Dedicated</td>\n",
              "    </tr>\n",
              "  </tbody>\n",
              "</table>\n",
              "</div>"
            ],
            "text/plain": [
              "   Automobile ID Fuel ID  ...     Category Fuel Configuration Name\n",
              "0          11636      41  ...  Sedan/Wagon               Dedicated\n",
              "1          11637      41  ...  Sedan/Wagon               Dedicated\n",
              "2          11638      41  ...  Sedan/Wagon               Dedicated\n",
              "3          11639      41  ...  Sedan/Wagon               Dedicated\n",
              "4          11640      41  ...  Sedan/Wagon               Dedicated\n",
              "\n",
              "[5 rows x 35 columns]"
            ]
          },
          "metadata": {
            "tags": []
          },
          "execution_count": 28
        }
      ]
    },
    {
      "cell_type": "code",
      "metadata": {
        "colab": {
          "base_uri": "https://localhost:8080/",
          "height": 343
        },
        "id": "B95aMoWkTWG6",
        "outputId": "d94ec5ba-4265-4def-9968-f6cab7050dd5"
      },
      "source": [
        "df=pd.read_csv('Vehicles.csv')\n",
        "print(df.shape)\n",
        "df.tail()"
      ],
      "execution_count": 26,
      "outputs": [
        {
          "output_type": "stream",
          "text": [
            "(167, 35)\n"
          ],
          "name": "stdout"
        },
        {
          "output_type": "execute_result",
          "data": {
            "text/html": [
              "<div>\n",
              "<style scoped>\n",
              "    .dataframe tbody tr th:only-of-type {\n",
              "        vertical-align: middle;\n",
              "    }\n",
              "\n",
              "    .dataframe tbody tr th {\n",
              "        vertical-align: top;\n",
              "    }\n",
              "\n",
              "    .dataframe thead th {\n",
              "        text-align: right;\n",
              "    }\n",
              "</style>\n",
              "<table border=\"1\" class=\"dataframe\">\n",
              "  <thead>\n",
              "    <tr style=\"text-align: right;\">\n",
              "      <th></th>\n",
              "      <th>Automobile ID</th>\n",
              "      <th>Fuel ID</th>\n",
              "      <th>Fuel Configuration ID</th>\n",
              "      <th>Manufacturer ID</th>\n",
              "      <th>Weight Class ID</th>\n",
              "      <th>Category ID</th>\n",
              "      <th>Model</th>\n",
              "      <th>Model Year</th>\n",
              "      <th>City Range</th>\n",
              "      <th>Highway Range</th>\n",
              "      <th>City Fuel Economy</th>\n",
              "      <th>City Fuel Economy Units</th>\n",
              "      <th>Highway Fuel Economy</th>\n",
              "      <th>Highway Fuel Economy Units</th>\n",
              "      <th>City Gas Fuel Economy</th>\n",
              "      <th>Highway Gas Fuel Economy</th>\n",
              "      <th>Transmission Type</th>\n",
              "      <th>Engine Type</th>\n",
              "      <th>Engine Size</th>\n",
              "      <th>Engine Cylinder Count</th>\n",
              "      <th>Engine Description</th>\n",
              "      <th>Battery Type</th>\n",
              "      <th>Battery Voltage Amps</th>\n",
              "      <th>110v Charge Time</th>\n",
              "      <th>220v Charge Time</th>\n",
              "      <th>Warranty Info</th>\n",
              "      <th>Ordering Info</th>\n",
              "      <th>Description</th>\n",
              "      <th>Comments</th>\n",
              "      <th>Manufacturer</th>\n",
              "      <th>Manufacturer URL</th>\n",
              "      <th>Fuel Code</th>\n",
              "      <th>Fuel</th>\n",
              "      <th>Category</th>\n",
              "      <th>Fuel Configuration Name</th>\n",
              "    </tr>\n",
              "  </thead>\n",
              "  <tbody>\n",
              "    <tr>\n",
              "      <th>162</th>\n",
              "      <td>10664</td>\n",
              "      <td>ETrans</td>\n",
              "      <td>Trans Tech</td>\n",
              "      <td>NaN</td>\n",
              "      <td>52.0</td>\n",
              "      <td>NaN</td>\n",
              "      <td>NaN</td>\n",
              "      <td>[]</td>\n",
              "      <td>Electric</td>\n",
              "      <td>School Bus</td>\n",
              "      <td>NaN</td>\n",
              "      <td>NaN</td>\n",
              "      <td>NaN</td>\n",
              "      <td>NaN</td>\n",
              "      <td>NaN</td>\n",
              "      <td>NaN</td>\n",
              "      <td>NaN</td>\n",
              "      <td>NaN</td>\n",
              "      <td>NaN</td>\n",
              "      <td>NaN</td>\n",
              "      <td>NaN</td>\n",
              "      <td>NaN</td>\n",
              "      <td>NaN</td>\n",
              "      <td>NaN</td>\n",
              "      <td>NaN</td>\n",
              "      <td>NaN</td>\n",
              "      <td>NaN</td>\n",
              "      <td>NaN</td>\n",
              "      <td>NaN</td>\n",
              "      <td>NaN</td>\n",
              "      <td>NaN</td>\n",
              "      <td>NaN</td>\n",
              "      <td>NaN</td>\n",
              "      <td>NaN</td>\n",
              "      <td>NaN</td>\n",
              "    </tr>\n",
              "    <tr>\n",
              "      <th>163</th>\n",
              "      <td>10848</td>\n",
              "      <td>E-Gen</td>\n",
              "      <td>Workhorse Custom Chassis</td>\n",
              "      <td>NaN</td>\n",
              "      <td>NaN</td>\n",
              "      <td>NaN</td>\n",
              "      <td>NaN</td>\n",
              "      <td>[]</td>\n",
              "      <td>Electric</td>\n",
              "      <td>Vocational/Cab Chassis</td>\n",
              "      <td>NaN</td>\n",
              "      <td>NaN</td>\n",
              "      <td>NaN</td>\n",
              "      <td>NaN</td>\n",
              "      <td>NaN</td>\n",
              "      <td>NaN</td>\n",
              "      <td>NaN</td>\n",
              "      <td>NaN</td>\n",
              "      <td>NaN</td>\n",
              "      <td>NaN</td>\n",
              "      <td>NaN</td>\n",
              "      <td>NaN</td>\n",
              "      <td>NaN</td>\n",
              "      <td>NaN</td>\n",
              "      <td>NaN</td>\n",
              "      <td>NaN</td>\n",
              "      <td>NaN</td>\n",
              "      <td>NaN</td>\n",
              "      <td>NaN</td>\n",
              "      <td>NaN</td>\n",
              "      <td>NaN</td>\n",
              "      <td>NaN</td>\n",
              "      <td>NaN</td>\n",
              "      <td>NaN</td>\n",
              "      <td>NaN</td>\n",
              "    </tr>\n",
              "    <tr>\n",
              "      <th>164</th>\n",
              "      <td>10871</td>\n",
              "      <td>250/350</td>\n",
              "      <td>Zenith Motors</td>\n",
              "      <td>NaN</td>\n",
              "      <td>NaN</td>\n",
              "      <td>NaN</td>\n",
              "      <td>NaN</td>\n",
              "      <td>[]</td>\n",
              "      <td>Electric</td>\n",
              "      <td>Van</td>\n",
              "      <td>NaN</td>\n",
              "      <td>NaN</td>\n",
              "      <td>NaN</td>\n",
              "      <td>NaN</td>\n",
              "      <td>NaN</td>\n",
              "      <td>NaN</td>\n",
              "      <td>NaN</td>\n",
              "      <td>NaN</td>\n",
              "      <td>NaN</td>\n",
              "      <td>NaN</td>\n",
              "      <td>NaN</td>\n",
              "      <td>NaN</td>\n",
              "      <td>NaN</td>\n",
              "      <td>NaN</td>\n",
              "      <td>NaN</td>\n",
              "      <td>NaN</td>\n",
              "      <td>NaN</td>\n",
              "      <td>NaN</td>\n",
              "      <td>NaN</td>\n",
              "      <td>NaN</td>\n",
              "      <td>NaN</td>\n",
              "      <td>NaN</td>\n",
              "      <td>NaN</td>\n",
              "      <td>NaN</td>\n",
              "      <td>NaN</td>\n",
              "    </tr>\n",
              "    <tr>\n",
              "      <th>165</th>\n",
              "      <td>10870</td>\n",
              "      <td>Shuttle Van</td>\n",
              "      <td>Zenith Motors</td>\n",
              "      <td>NaN</td>\n",
              "      <td>NaN</td>\n",
              "      <td>NaN</td>\n",
              "      <td>NaN</td>\n",
              "      <td>[]</td>\n",
              "      <td>Electric</td>\n",
              "      <td>Van</td>\n",
              "      <td>NaN</td>\n",
              "      <td>NaN</td>\n",
              "      <td>NaN</td>\n",
              "      <td>NaN</td>\n",
              "      <td>NaN</td>\n",
              "      <td>NaN</td>\n",
              "      <td>NaN</td>\n",
              "      <td>NaN</td>\n",
              "      <td>NaN</td>\n",
              "      <td>NaN</td>\n",
              "      <td>NaN</td>\n",
              "      <td>NaN</td>\n",
              "      <td>NaN</td>\n",
              "      <td>NaN</td>\n",
              "      <td>NaN</td>\n",
              "      <td>NaN</td>\n",
              "      <td>NaN</td>\n",
              "      <td>NaN</td>\n",
              "      <td>NaN</td>\n",
              "      <td>NaN</td>\n",
              "      <td>NaN</td>\n",
              "      <td>NaN</td>\n",
              "      <td>NaN</td>\n",
              "      <td>NaN</td>\n",
              "      <td>NaN</td>\n",
              "    </tr>\n",
              "    <tr>\n",
              "      <th>166</th>\n",
              "      <td>10401</td>\n",
              "      <td>ZeroTruck</td>\n",
              "      <td>ZeroTruck</td>\n",
              "      <td>NaN</td>\n",
              "      <td>NaN</td>\n",
              "      <td>NaN</td>\n",
              "      <td>NaN</td>\n",
              "      <td>[]</td>\n",
              "      <td>Electric</td>\n",
              "      <td>Vocational/Cab Chassis</td>\n",
              "      <td>NaN</td>\n",
              "      <td>NaN</td>\n",
              "      <td>NaN</td>\n",
              "      <td>NaN</td>\n",
              "      <td>NaN</td>\n",
              "      <td>NaN</td>\n",
              "      <td>NaN</td>\n",
              "      <td>NaN</td>\n",
              "      <td>NaN</td>\n",
              "      <td>NaN</td>\n",
              "      <td>NaN</td>\n",
              "      <td>NaN</td>\n",
              "      <td>NaN</td>\n",
              "      <td>NaN</td>\n",
              "      <td>NaN</td>\n",
              "      <td>NaN</td>\n",
              "      <td>NaN</td>\n",
              "      <td>NaN</td>\n",
              "      <td>NaN</td>\n",
              "      <td>NaN</td>\n",
              "      <td>NaN</td>\n",
              "      <td>NaN</td>\n",
              "      <td>NaN</td>\n",
              "      <td>NaN</td>\n",
              "      <td>NaN</td>\n",
              "    </tr>\n",
              "  </tbody>\n",
              "</table>\n",
              "</div>"
            ],
            "text/plain": [
              "     Automobile ID      Fuel ID  ... Category Fuel Configuration Name\n",
              "162          10664       ETrans  ...      NaN                     NaN\n",
              "163          10848        E-Gen  ...      NaN                     NaN\n",
              "164          10871     250/350   ...      NaN                     NaN\n",
              "165          10870  Shuttle Van  ...      NaN                     NaN\n",
              "166          10401    ZeroTruck  ...      NaN                     NaN\n",
              "\n",
              "[5 rows x 35 columns]"
            ]
          },
          "metadata": {
            "tags": []
          },
          "execution_count": 26
        }
      ]
    },
    {
      "cell_type": "markdown",
      "metadata": {
        "id": "qZfrU3T0AUmy"
      },
      "source": [
        "**Presents the different fuel economies and how many counts there are in that range**"
      ]
    },
    {
      "cell_type": "code",
      "metadata": {
        "colab": {
          "base_uri": "https://localhost:8080/",
          "height": 350
        },
        "id": "wkt78456vbkS",
        "outputId": "60696782-6a31-4ab9-de99-6dc2355cadd3"
      },
      "source": [
        "sns.countplot(df['City Fuel Economy'])"
      ],
      "execution_count": 39,
      "outputs": [
        {
          "output_type": "stream",
          "text": [
            "/usr/local/lib/python3.7/dist-packages/seaborn/_decorators.py:43: FutureWarning: Pass the following variable as a keyword arg: x. From version 0.12, the only valid positional argument will be `data`, and passing other arguments without an explicit keyword will result in an error or misinterpretation.\n",
            "  FutureWarning\n"
          ],
          "name": "stderr"
        },
        {
          "output_type": "execute_result",
          "data": {
            "text/plain": [
              "<matplotlib.axes._subplots.AxesSubplot at 0x7f2187e35c50>"
            ]
          },
          "metadata": {
            "tags": []
          },
          "execution_count": 39
        },
        {
          "output_type": "display_data",
          "data": {
            "image/png": "[encoded data removed]",
            "text/plain": [
              "<Figure size 432x288 with 1 Axes>"
            ]
          },
          "metadata": {
            "tags": [],
            "needs_background": "light"
          }
        }
      ]
    },
    {
      "cell_type": "markdown",
      "metadata": {
        "id": "p3-ogHM0CPr7"
      },
      "source": [
        "**Number of cars produced correlated to the City Fuel & Highway Fuel economy**"
      ]
    },
    {
      "cell_type": "code",
      "metadata": {
        "colab": {
          "base_uri": "https://localhost:8080/",
          "height": 296
        },
        "id": "OmvgrvZUBAQd",
        "outputId": "1a62162f-c092-4c99-ef6b-3777e8b37bf8"
      },
      "source": [
        "a=df['City Gas Fuel Economy']\n",
        "b=df['Highway Gas Fuel Economy']\n",
        "plt.hist(a,bins=5,label='City Fuel Economy',alpha=0.5)\n",
        "plt.hist(b,bins=5,label='Highway Fuel Economy',alpha=0.5)\n",
        "plt.legend(loc='best')\n",
        "plt.title('')\n",
        "plt.xlabel('Total  MPGe (Miles per gallon electric)')\n",
        "plt.ylabel('Total Count of Cars')"
      ],
      "execution_count": 61,
      "outputs": [
        {
          "output_type": "execute_result",
          "data": {
            "text/plain": [
              "Text(0, 0.5, 'Total Count of Cars')"
            ]
          },
          "metadata": {
            "tags": []
          },
          "execution_count": 61
        },
        {
          "output_type": "display_data",
          "data": {
            "image/png": "[encoded data removed]",
            "text/plain": [
              "<Figure size 432x288 with 1 Axes>"
            ]
          },
          "metadata": {
            "tags": [],
            "needs_background": "light"
          }
        }
      ]
    },
    {
      "cell_type": "markdown",
      "metadata": {
        "id": "QkEPEkbHAwcQ"
      },
      "source": [
        "**Presents the types of batteries and the count**"
      ]
    },
    {
      "cell_type": "code",
      "metadata": {
        "colab": {
          "base_uri": "https://localhost:8080/",
          "height": 350
        },
        "id": "aJh3P9_IwU3-",
        "outputId": "2592fbe2-d4a0-4b86-ce38-2327ded9a4df"
      },
      "source": [
        "sns.countplot(df['Battery Type']) \n"
      ],
      "execution_count": 47,
      "outputs": [
        {
          "output_type": "stream",
          "text": [
            "/usr/local/lib/python3.7/dist-packages/seaborn/_decorators.py:43: FutureWarning: Pass the following variable as a keyword arg: x. From version 0.12, the only valid positional argument will be `data`, and passing other arguments without an explicit keyword will result in an error or misinterpretation.\n",
            "  FutureWarning\n"
          ],
          "name": "stderr"
        },
        {
          "output_type": "execute_result",
          "data": {
            "text/plain": [
              "<matplotlib.axes._subplots.AxesSubplot at 0x7f2184590190>"
            ]
          },
          "metadata": {
            "tags": []
          },
          "execution_count": 47
        },
        {
          "output_type": "display_data",
          "data": {
            "image/png": "[encoded data removed]",
            "text/plain": [
              "<Figure size 432x288 with 1 Axes>"
            ]
          },
          "metadata": {
            "tags": [],
            "needs_background": "light"
          }
        }
      ]
    },
    {
      "cell_type": "code",
      "metadata": {
        "colab": {
          "base_uri": "https://localhost:8080/",
          "height": 282
        },
        "id": "SP1sD_UvyZjA",
        "outputId": "ce2b40f7-c66e-49d2-8861-9bc04ed756c6"
      },
      "source": [
        "plt.scatter(df['City Gas Fuel Economy'],df['Highway Gas Fuel Economy'], cmap='viridis')"
      ],
      "execution_count": 68,
      "outputs": [
        {
          "output_type": "execute_result",
          "data": {
            "text/plain": [
              "<matplotlib.collections.PathCollection at 0x7f217f5b3490>"
            ]
          },
          "metadata": {
            "tags": []
          },
          "execution_count": 68
        },
        {
          "output_type": "display_data",
          "data": {
            "image/png": "[encoded data removed]",
            "text/plain": [
              "<Figure size 432x288 with 1 Axes>"
            ]
          },
          "metadata": {
            "tags": [],
            "needs_background": "light"
          }
        }
      ]
    },
    {
      "cell_type": "markdown",
      "metadata": {
        "id": "EbSB9yRiEI5Y"
      },
      "source": [
        "**Show whether or not there are missing data (which there is, since there are a total of 167 data points and in some there is only 94 data points)**"
      ]
    },
    {
      "cell_type": "code",
      "metadata": {
        "colab": {
          "base_uri": "https://localhost:8080/"
        },
        "id": "LSy91BabEFpq",
        "outputId": "21093b27-21fe-4122-d892-e444afabc908"
      },
      "source": [
        "df.info()"
      ],
      "execution_count": 69,
      "outputs": [
        {
          "output_type": "stream",
          "text": [
            "<class 'pandas.core.frame.DataFrame'>\n",
            "RangeIndex: 167 entries, 0 to 166\n",
            "Data columns (total 35 columns):\n",
            " #   Column                      Non-Null Count  Dtype  \n",
            "---  ------                      --------------  -----  \n",
            " 0   Automobile ID               167 non-null    int64  \n",
            " 1   Fuel ID                     167 non-null    object \n",
            " 2   Fuel Configuration ID       167 non-null    object \n",
            " 3   Manufacturer ID             145 non-null    object \n",
            " 4   Weight Class ID             13 non-null     float64\n",
            " 5   Category ID                 138 non-null    object \n",
            " 6   Model                       133 non-null    object \n",
            " 7   Model Year                  167 non-null    object \n",
            " 8   City Range                  68 non-null     object \n",
            " 9   Highway Range               52 non-null     object \n",
            " 10  City Fuel Economy           103 non-null    object \n",
            " 11  City Fuel Economy Units     115 non-null    object \n",
            " 12  Highway Fuel Economy        94 non-null     float64\n",
            " 13  Highway Fuel Economy Units  115 non-null    object \n",
            " 14  City Gas Fuel Economy       38 non-null     float64\n",
            " 15  Highway Gas Fuel Economy    42 non-null     float64\n",
            " 16  Transmission Type           112 non-null    object \n",
            " 17  Engine Type                 68 non-null     object \n",
            " 18  Engine Size                 54 non-null     object \n",
            " 19  Engine Cylinder Count       10 non-null     float64\n",
            " 20  Engine Description          46 non-null     object \n",
            " 21  Battery Type                81 non-null     object \n",
            " 22  Battery Voltage Amps        91 non-null     object \n",
            " 23  110v Charge Time            29 non-null     object \n",
            " 24  220v Charge Time            54 non-null     object \n",
            " 25  Warranty Info               10 non-null     object \n",
            " 26  Ordering Info               17 non-null     object \n",
            " 27  Description                 65 non-null     object \n",
            " 28  Comments                    23 non-null     object \n",
            " 29  Manufacturer                133 non-null    object \n",
            " 30  Manufacturer URL            123 non-null    object \n",
            " 31  Fuel Code                   133 non-null    object \n",
            " 32  Fuel                        133 non-null    object \n",
            " 33  Category                    133 non-null    object \n",
            " 34  Fuel Configuration Name     133 non-null    object \n",
            "dtypes: float64(5), int64(1), object(29)\n",
            "memory usage: 45.8+ KB\n"
          ],
          "name": "stdout"
        }
      ]
    },
    {
      "cell_type": "markdown",
      "metadata": {
        "id": "_0Nh2epbFPRY"
      },
      "source": [
        "**Showing if there are any duplicate rows: there are none since the output is an empty datafram**"
      ]
    },
    {
      "cell_type": "code",
      "metadata": {
        "colab": {
          "base_uri": "https://localhost:8080/"
        },
        "id": "JT93a4vzEN7T",
        "outputId": "ebd9911d-b363-4fac-9f36-217f835445a8"
      },
      "source": [
        "duplicateRows = df[df.duplicated()]\n",
        "print(\"Duplicate Rows on all columns are :\")\n",
        "print(duplicateRows)"
      ],
      "execution_count": 72,
      "outputs": [
        {
          "output_type": "stream",
          "text": [
            "Duplicate Rows on all columns are :\n",
            "Empty DataFrame\n",
            "Columns: [Automobile ID, Fuel ID, Fuel Configuration ID, Manufacturer ID, Weight Class ID, Category ID, Model, Model Year, City Range, Highway Range, City Fuel Economy, City Fuel Economy Units, Highway Fuel Economy, Highway Fuel Economy Units, City Gas Fuel Economy, Highway Gas Fuel Economy, Transmission Type, Engine Type, Engine Size, Engine Cylinder Count, Engine Description, Battery Type, Battery Voltage Amps, 110v Charge Time, 220v Charge Time, Warranty Info, Ordering Info, Description, Comments, Manufacturer, Manufacturer URL, Fuel Code, Fuel, Category, Fuel Configuration Name]\n",
            "Index: []\n"
          ],
          "name": "stdout"
        }
      ]
    },
    {
      "cell_type": "markdown",
      "metadata": {
        "id": "-m-3pdq8Gq5y"
      },
      "source": [
        "**Checking for outliers in most popular columns**"
      ]
    },
    {
      "cell_type": "code",
      "metadata": {
        "colab": {
          "base_uri": "https://localhost:8080/",
          "height": 296
        },
        "id": "wBU-1rTWFW3F",
        "outputId": "db7d0b7d-60c1-4211-c4db-bc78766eee72"
      },
      "source": [
        "sns.boxplot(x=df['City Gas Fuel Economy'])"
      ],
      "execution_count": 80,
      "outputs": [
        {
          "output_type": "execute_result",
          "data": {
            "text/plain": [
              "<matplotlib.axes._subplots.AxesSubplot at 0x7f217f1d2710>"
            ]
          },
          "metadata": {
            "tags": []
          },
          "execution_count": 80
        },
        {
          "output_type": "display_data",
          "data": {
            "image/png": "[encoded data removed]",
            "text/plain": [
              "<Figure size 432x288 with 1 Axes>"
            ]
          },
          "metadata": {
            "tags": [],
            "needs_background": "light"
          }
        }
      ]
    },
    {
      "cell_type": "code",
      "metadata": {
        "colab": {
          "base_uri": "https://localhost:8080/",
          "height": 296
        },
        "id": "v2DCA6OsGFCy",
        "outputId": "f43e1f38-d305-4963-c3ac-3056b2a948a6"
      },
      "source": [
        "sns.boxplot(x=df['Weight Class ID'])"
      ],
      "execution_count": 83,
      "outputs": [
        {
          "output_type": "execute_result",
          "data": {
            "text/plain": [
              "<matplotlib.axes._subplots.AxesSubplot at 0x7f217eebd3d0>"
            ]
          },
          "metadata": {
            "tags": []
          },
          "execution_count": 83
        },
        {
          "output_type": "display_data",
          "data": {
            "image/png": "[encoded data removed]",
            "text/plain": [
              "<Figure size 432x288 with 1 Axes>"
            ]
          },
          "metadata": {
            "tags": [],
            "needs_background": "light"
          }
        }
      ]
    },
    {
      "cell_type": "markdown",
      "metadata": {
        "id": "08Geu1xWGwMt"
      },
      "source": [
        "**List the variables you will be dummy coding**\n",
        "-engine cyclinder count\n",
        "-charge time for both 110 and 220v\n",
        "-battery type \n"
      ]
    },
    {
      "cell_type": "markdown",
      "metadata": {
        "id": "fDaYAkgOHUhI"
      },
      "source": [
        "** 1) I want to clean up this dataset so that I do not have 20 columns to deal with. I will likely remove all columns that are descriptions and contain unessacry data such as warrant ID. I will also be working on reasiing data for the future. 2) I will be analyzing the fuel economy of different make of cars in the future. Then with specific leading brands I will be comnparing fuel economy, charging time, battery type, and weight class (SUV or sedan)"
      ]
    }
  ]
}